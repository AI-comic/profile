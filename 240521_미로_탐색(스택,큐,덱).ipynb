{
  "nbformat": 4,
  "nbformat_minor": 0,
  "metadata": {
    "colab": {
      "provenance": [],
      "include_colab_link": true
    },
    "kernelspec": {
      "name": "python3",
      "display_name": "Python 3"
    },
    "language_info": {
      "name": "python"
    }
  },
  "cells": [
    {
      "cell_type": "markdown",
      "metadata": {
        "id": "view-in-github",
        "colab_type": "text"
      },
      "source": [
        "<a href=\"https://colab.research.google.com/github/AI-comic/profile/blob/main/240521_%EB%AF%B8%EB%A1%9C_%ED%83%90%EC%83%89(%EC%8A%A4%ED%83%9D%2C%ED%81%90%2C%EB%8D%B1).ipynb\" target=\"_parent\"><img src=\"https://colab.research.google.com/assets/colab-badge.svg\" alt=\"Open In Colab\"/></a>"
      ]
    },
    {
      "cell_type": "code",
      "execution_count": null,
      "metadata": {
        "id": "yp40QNgBzucB"
      },
      "outputs": [],
      "source": [
        "#미로 탐색(깊이)\n",
        "map = [['1', '1', '1', '1', '1', '1'],\n",
        "       ['e', '0', '0', '0', '0', '1'],\n",
        "       ['1', '0', '1', '0', '1', '1'],\n",
        "       ['1', '1', '1', '0', '0', 'x'],\n",
        "       ['1', '1', '1', '0', '1', '1'],\n",
        "       ['1', '1', '1', '1', '1', '1']]\n",
        "\n",
        "MAZE_SIZE = 6\n",
        "\n",
        "def is_valid_move(row, col):\n",
        "    if row < 0 or row >= MAZE_SIZE or col < 0 or col >= MAZE_SIZE:\n",
        "        return False\n",
        "    if map[row][col] == '1':\n",
        "        return False\n",
        "    return True\n",
        "\n",
        "def depth_first_search():\n",
        "    stack = [(1, 0)]  # 시작 위치를 스택에 추가\n",
        "    visited = set()  # 방문한 위치를 저장할 집합\n",
        "\n",
        "    while stack:\n",
        "        current_row, current_col = stack.pop()  # 스택에서 현재 위치를 꺼냄\n",
        "        visited.add((current_row, current_col))  # 현재 위치를 방문했음으로 표시\n",
        "\n",
        "        if map[current_row][current_col] == 'x':  # 출구에 도착한 경우\n",
        "            return True  # 탐색 성공\n",
        "\n",
        "        for dr, dc in [(1, 0), (-1, 0), (0, 1), (0, -1)]:   # 주변 위치를 확인하며 탐색\n",
        "            next_row, next_col = current_row + dr, current_col + dc\n",
        "            if (next_row, next_col) not in visited and is_valid_move(next_row, next_col):\n",
        "                stack.append((next_row, next_col))  # 다음 위치를 스택에 추가\n",
        "\n",
        "    return False  # 출구에 도착하지 못한 경우\n",
        "\n",
        "if depth_first_search():\n",
        "    print(\"출구에 도착했습니다.\")\n",
        "else:\n",
        "    print(\"출구를 찾을 수 없습니다.\")"
      ]
    },
    {
      "cell_type": "code",
      "source": [
        "#미로 탐색 (넓이)\n",
        "from collections import deque\n",
        "\n",
        "map = [['1', '1', '1', '1', '1', '1'],\n",
        "       ['e', '0', '0', '0', '0', '1'],\n",
        "       ['1', '0', '1', '0', '1', '1'],\n",
        "       ['1', '1', '1', '0', '0', 'x'],\n",
        "       ['1', '1', '1', '0', '1', '1'],\n",
        "       ['1', '1', '1', '1', '1', '1']]\n",
        "\n",
        "MAZE_SIZE = 6\n",
        "\n",
        "def is_valid_move(row, col):\n",
        "    if row < 0 or row >= MAZE_SIZE or col < 0 or col >= MAZE_SIZE:\n",
        "        return False\n",
        "    if map[row][col] == '1':\n",
        "        return False\n",
        "    return True\n",
        "\n",
        "def breadth_first_search():\n",
        "    queue = deque([(1, 0)])  # 시작 위치를 큐에 추가\n",
        "    visited = set()  # 방문한 위치를 저장할 집합\n",
        "\n",
        "    while queue:\n",
        "        current_row, current_col = queue.popleft()  # 큐에서 현재 위치를 꺼냄\n",
        "        visited.add((current_row, current_col))  # 현재 위치를 방문했음으로 표시\n",
        "\n",
        "        if map[current_row][current_col] == 'x':  # 출구에 도착한 경우\n",
        "            return True  # 탐색 성공\n",
        "\n",
        "        for dr, dc in [(1, 0), (-1, 0), (0, 1), (0, -1)]:   # 주변 위치를 확인하며 탐색\n",
        "            next_row, next_col = current_row + dr, current_col + dc\n",
        "            if (next_row, next_col) not in visited and is_valid_move(next_row, next_col):\n",
        "                queue.append((next_row, next_col))  # 다음 위치를 큐에 추가\n",
        "\n",
        "    return False  # 출구에 도착하지 못한 경우\n",
        "\n",
        "if breadth_first_search():\n",
        "    print(\"출구에 도착했습니다.\")\n",
        "else:\n",
        "    print(\"출구를 찾을 수 없습니다.\")"
      ],
      "metadata": {
        "id": "f2_BkDtm0Av1"
      },
      "execution_count": null,
      "outputs": []
    },
    {
      "cell_type": "code",
      "source": [
        "#미로 탐색(전략)\n",
        "import heapq\n",
        "\n",
        "map = [['1', '1', '1', '1', '1', '1'],\n",
        "       ['e', '0', '0', '0', '0', '1'],\n",
        "       ['1', '0', '1', '0', '1', '1'],\n",
        "       ['1', '1', '1', '0', '0', 'x'],\n",
        "       ['1', '1', '1', '0', '1', '1'],\n",
        "       ['1', '1', '1', '1', '1', '1']]\n",
        "\n",
        "MAZE_SIZE = 6\n",
        "\n",
        "def is_valid_move(row, col):\n",
        "    if row < 0 or row >= MAZE_SIZE or col < 0 or col >= MAZE_SIZE:\n",
        "        return False\n",
        "    if map[row][col] == '1':\n",
        "        return False\n",
        "    return True\n",
        "\n",
        "def heuristic(row, col):\n",
        "    exit_row, exit_col = 3, 5  # 출구 좌표 (3, 5)\n",
        "    return abs(row - exit_row) + abs(col - exit_col)\n",
        "\n",
        "def strategic_search():\n",
        "    priority_queue = [((1, 0), 0, 0)]  # 시작 위치와 초기 거리를 우선순위 큐에 추가\n",
        "    visited = set()  # 방문한 위치를 저장할 집합\n",
        "\n",
        "    while priority_queue:\n",
        "        (current_row, current_col), total_distance, _ = heapq.heappop(priority_queue)  # 우선순위 큐에서 현재 위치를 꺼냄\n",
        "        if (current_row, current_col) in visited:  # 이미 방문한 위치인 경우 건너뜁니다.\n",
        "            continue\n",
        "        visited.add((current_row, current_col))  # 현재 위치를 방문했음으로 표시\n",
        "\n",
        "        if map[current_row][current_col] == 'x':  # 출구에 도착한 경우\n",
        "            return True  # 탐색 성공\n",
        "\n",
        "        for dr, dc in [(1, 0), (-1, 0), (0, 1), (0, -1)]:   # 주변 위치를 확인하며 탐색\n",
        "            next_row, next_col = current_row + dr, current_col + dc\n",
        "            if is_valid_move(next_row, next_col):\n",
        "                next_distance = total_distance + 1  # 다음 위치까지의 예상 거리\n",
        "                heapq.heappush(priority_queue, ((next_row, next_col), next_distance, next_distance + heuristic(next_row, next_col)))  # 우선순위 큐에 추가\n",
        "\n",
        "    return False  # 출구에 도착하지 못한 경우\n",
        "\n",
        "if strategic_search():\n",
        "    print(\"출구에 도착했습니다.\")\n",
        "else:\n",
        "    print(\"출구를 찾을 수 없습니다.\")"
      ],
      "metadata": {
        "id": "KzNvtEDS0tJ9"
      },
      "execution_count": null,
      "outputs": []
    }
  ]
}