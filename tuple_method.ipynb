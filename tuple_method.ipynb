{
  "nbformat": 4,
  "nbformat_minor": 0,
  "metadata": {
    "colab": {
      "provenance": [],
      "authorship_tag": "ABX9TyNCDT8IqCqT0TKHTcI51EqA",
      "include_colab_link": true
    },
    "kernelspec": {
      "name": "python3",
      "display_name": "Python 3"
    },
    "language_info": {
      "name": "python"
    }
  },
  "cells": [
    {
      "cell_type": "markdown",
      "metadata": {
        "id": "view-in-github",
        "colab_type": "text"
      },
      "source": [
        "<a href=\"https://colab.research.google.com/github/AI-comic/profile/blob/main/tuple_method.ipynb\" target=\"_parent\"><img src=\"https://colab.research.google.com/assets/colab-badge.svg\" alt=\"Open In Colab\"/></a>"
      ]
    },
    {
      "cell_type": "markdown",
      "source": [
        "Tuple 메소드(method)\n",
        "\n",
        "| |메소드|기능|\n",
        "|:--|:---:|:--:|\n",
        "|1|count|튜플 내에서 지정된 값의 개수 반환|\n",
        "|2|index|튜플 내에서 지정된 값의 첫 번째 인덱스 반환(값이 존재하지 않으면 오류 발생)|"
      ],
      "metadata": {
        "id": "EmaqBLJFUMsF"
      }
    },
    {
      "cell_type": "code",
      "source": [
        "#메소드: count\n",
        "data_tuple = (1, 1, 2, 2, 2, 3, 3, 3, 3)\n",
        "data2_tuple = data_tuple.count(2)\n",
        "data3_tuple = data_tuple.count(3)\n",
        "print(data2_tuple)\n",
        "print(data3_tuple)"
      ],
      "metadata": {
        "colab": {
          "base_uri": "https://localhost:8080/"
        },
        "id": "hFE2k3PgW6yG",
        "outputId": "d3026ac9-c9e6-44d7-9953-fa9cae68be43"
      },
      "execution_count": null,
      "outputs": [
        {
          "output_type": "stream",
          "name": "stdout",
          "text": [
            "3\n",
            "4\n"
          ]
        }
      ]
    },
    {
      "cell_type": "code",
      "source": [
        "#메소드: index\n",
        "data_tuple = (1, 2, 3, 4, 5)\n",
        "data2_tuple = data_tuple.index(3)\n",
        "print(data2_tuple)"
      ],
      "metadata": {
        "colab": {
          "base_uri": "https://localhost:8080/"
        },
        "id": "tnHzUkwGW68g",
        "outputId": "e8b50aad-1ee5-4161-f9ac-b283cde32dba"
      },
      "execution_count": null,
      "outputs": [
        {
          "output_type": "stream",
          "name": "stdout",
          "text": [
            "2\n"
          ]
        }
      ]
    }
  ]
}