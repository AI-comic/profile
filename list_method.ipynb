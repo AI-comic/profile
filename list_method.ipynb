{
  "nbformat": 4,
  "nbformat_minor": 0,
  "metadata": {
    "colab": {
      "provenance": [],
      "authorship_tag": "ABX9TyM+Hn1uPnQF1FMtirPf1umX",
      "include_colab_link": true
    },
    "kernelspec": {
      "name": "python3",
      "display_name": "Python 3"
    },
    "language_info": {
      "name": "python"
    }
  },
  "cells": [
    {
      "cell_type": "markdown",
      "metadata": {
        "id": "view-in-github",
        "colab_type": "text"
      },
      "source": [
        "<a href=\"https://colab.research.google.com/github/AI-comic/profile/blob/main/list_method.ipynb\" target=\"_parent\"><img src=\"https://colab.research.google.com/assets/colab-badge.svg\" alt=\"Open In Colab\"/></a>"
      ]
    },
    {
      "cell_type": "markdown",
      "source": [
        "List 메소드(method)\n",
        "\n",
        "| |메소드|기능|\n",
        "|:--|:---:|:--:|\n",
        "|1|append()|리스트 끝에 항목 추가|\n",
        "|2|extend()|다른 리스트나 이터러블의 모든 항목을 현재 리스트에 추가|\n",
        "|3|insert()|인덱스 위치에 값 삽입|\n",
        "|4|remove()|리스트의 첫 번째 항목 제거|\n",
        "|5|pop()|지정한 인덱스에 해당하는 항목을 제거하고 반환 (인덱스를 지정하지 않으면 마지막 항목 제거)|\n",
        "|6|clear()|리스트의 모든 항목 제거|\n",
        "|7|index()|특정 항목의 인덱스 반환 (첫 번째로 발견되는 항목의 인덱스 반환)|\n",
        "|8|count()|특정 항목의 개수 반환|\n",
        "|9|sort()|리스트 항목 정렬 (기본적으로 오름차순 정렬)|\n",
        "|10|reverse()|리스트 항목의 순서를 반대로 뒤집음|\n",
        "|11|copy()|리스트의 복사본 반환|"
      ],
      "metadata": {
        "id": "FFTSqbbLOixJ"
      }
    },
    {
      "cell_type": "code",
      "source": [
        "#메소드: append\n",
        "data_list = [1, 2, 3]\n",
        "data_list.append(4); print(data_list)"
      ],
      "metadata": {
        "id": "iV4R1kMPzY-R",
        "colab": {
          "base_uri": "https://localhost:8080/"
        },
        "outputId": "c1c05f9b-c494-4836-fb0c-9f9366903b9f"
      },
      "execution_count": null,
      "outputs": [
        {
          "output_type": "stream",
          "name": "stdout",
          "text": [
            "[1, 2, 3, 4]\n"
          ]
        }
      ]
    },
    {
      "cell_type": "code",
      "source": [
        "#메소드: extend\n",
        "data1_list = [1, 2, 3]\n",
        "data2_list = [4, 5, 6]\n",
        "data1_list.extend(data2_list); print(data1_list)"
      ],
      "metadata": {
        "id": "BfksrTQ5zyVu",
        "colab": {
          "base_uri": "https://localhost:8080/"
        },
        "outputId": "9825ad2c-87dd-4fcc-ad45-0f138181a8bf"
      },
      "execution_count": null,
      "outputs": [
        {
          "output_type": "stream",
          "name": "stdout",
          "text": [
            "[1, 2, 3, 4, 5, 6]\n"
          ]
        }
      ]
    },
    {
      "cell_type": "code",
      "source": [
        "#메소드: insert\n",
        "data_list = [1, 2, 3]\n",
        "data_list.insert(1, 4); print(data_list)"
      ],
      "metadata": {
        "colab": {
          "base_uri": "https://localhost:8080/"
        },
        "id": "H7ifO6sVOZ0V",
        "outputId": "c02f5b79-c346-4e7a-897e-ebff9415aacc"
      },
      "execution_count": null,
      "outputs": [
        {
          "output_type": "stream",
          "name": "stdout",
          "text": [
            "[1, 4, 2, 3]\n"
          ]
        }
      ]
    },
    {
      "cell_type": "code",
      "source": [
        "#메소드: remove\n",
        "data_list = [1, 2, 3, 4, 2]\n",
        "data_list.remove(2); print(data_list)"
      ],
      "metadata": {
        "colab": {
          "base_uri": "https://localhost:8080/"
        },
        "id": "2pHcqVqlPUtY",
        "outputId": "326a982e-09c2-4645-bc00-dcee69f36670"
      },
      "execution_count": null,
      "outputs": [
        {
          "output_type": "stream",
          "name": "stdout",
          "text": [
            "[1, 3, 4, 2]\n"
          ]
        }
      ]
    },
    {
      "cell_type": "code",
      "source": [
        "#메소드: pop\n",
        "data_list = [1, 2, 3]\n",
        "data2_list = data_list.pop(1); print(data2_list)\n",
        "print(data_list)\n",
        "data3_list = data_list.pop(); print(data3_list)\n",
        "print(data_list)"
      ],
      "metadata": {
        "colab": {
          "base_uri": "https://localhost:8080/"
        },
        "id": "UN-ovt8YQLEJ",
        "outputId": "e2a81078-dd97-486d-c096-576d3af71fa7"
      },
      "execution_count": null,
      "outputs": [
        {
          "output_type": "stream",
          "name": "stdout",
          "text": [
            "2\n",
            "[1, 3]\n",
            "3\n",
            "[1]\n"
          ]
        }
      ]
    },
    {
      "cell_type": "code",
      "source": [
        "#메소드: clear\n",
        "data_list = [1, 2, 3]\n",
        "data_list.clear(); print(data_list)"
      ],
      "metadata": {
        "colab": {
          "base_uri": "https://localhost:8080/"
        },
        "id": "gKyqNnVURzJQ",
        "outputId": "ec56e512-3038-4a16-f4d1-cbde11b47aae"
      },
      "execution_count": null,
      "outputs": [
        {
          "output_type": "stream",
          "name": "stdout",
          "text": [
            "[]\n"
          ]
        }
      ]
    },
    {
      "cell_type": "code",
      "source": [
        "#메소드: index\n",
        "data_list = [1, 2, 3, 4, 2]\n",
        "index = data_list.index(2); print(index)"
      ],
      "metadata": {
        "colab": {
          "base_uri": "https://localhost:8080/"
        },
        "id": "7m13AXc1RzYH",
        "outputId": "d1d651ac-1011-4cd1-b71c-0214e31f8b11"
      },
      "execution_count": null,
      "outputs": [
        {
          "output_type": "stream",
          "name": "stdout",
          "text": [
            "1\n"
          ]
        }
      ]
    },
    {
      "cell_type": "code",
      "source": [
        "#메소드: count\n",
        "data_list = [1, 2, 3, 4, 2]\n",
        "count = data_list.count(2); print(count)"
      ],
      "metadata": {
        "colab": {
          "base_uri": "https://localhost:8080/"
        },
        "id": "Ub0DlvmgRza6",
        "outputId": "bc736c8a-63dc-43ec-f217-0a2d909ac249"
      },
      "execution_count": null,
      "outputs": [
        {
          "output_type": "stream",
          "name": "stdout",
          "text": [
            "2\n"
          ]
        }
      ]
    },
    {
      "cell_type": "code",
      "source": [
        "#메소드: sort\n",
        "data_list = [3, 1, 4, 2]\n",
        "data_list.sort(); print(data_list)"
      ],
      "metadata": {
        "colab": {
          "base_uri": "https://localhost:8080/"
        },
        "id": "4xryBxWERzeM",
        "outputId": "7c074a15-dab7-434d-db3e-4169d6cb4aae"
      },
      "execution_count": null,
      "outputs": [
        {
          "output_type": "stream",
          "name": "stdout",
          "text": [
            "[1, 2, 3, 4]\n"
          ]
        }
      ]
    },
    {
      "cell_type": "code",
      "source": [
        "#메소드: reverse\n",
        "data_list = [1, 2, 3]\n",
        "data_list.reverse(); print(data_list)"
      ],
      "metadata": {
        "colab": {
          "base_uri": "https://localhost:8080/"
        },
        "id": "hItmR7wmRzhG",
        "outputId": "22f0a1c9-cd1d-4dd2-d124-95706534dd53"
      },
      "execution_count": null,
      "outputs": [
        {
          "output_type": "stream",
          "name": "stdout",
          "text": [
            "[3, 2, 1]\n"
          ]
        }
      ]
    },
    {
      "cell_type": "code",
      "source": [
        "#메소드: copy\n",
        "data_list = [1, 2, 3]\n",
        "copy_list = data_list.copy(); print(copy_list)"
      ],
      "metadata": {
        "colab": {
          "base_uri": "https://localhost:8080/"
        },
        "id": "lxZJGbFVRzj-",
        "outputId": "9f7fb79d-924f-4bc6-e4de-90db27f15fb7"
      },
      "execution_count": null,
      "outputs": [
        {
          "output_type": "stream",
          "name": "stdout",
          "text": [
            "[1, 2, 3]\n"
          ]
        }
      ]
    }
  ]
}