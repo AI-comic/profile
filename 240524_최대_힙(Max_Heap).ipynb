{
  "nbformat": 4,
  "nbformat_minor": 0,
  "metadata": {
    "colab": {
      "provenance": [],
      "authorship_tag": "ABX9TyOnJH4LlyKoIhKP4pj/T4FZ",
      "include_colab_link": true
    },
    "kernelspec": {
      "name": "python3",
      "display_name": "Python 3"
    },
    "language_info": {
      "name": "python"
    }
  },
  "cells": [
    {
      "cell_type": "markdown",
      "metadata": {
        "id": "view-in-github",
        "colab_type": "text"
      },
      "source": [
        "<a href=\"https://colab.research.google.com/github/AI-comic/profile/blob/main/240524_%EC%B5%9C%EB%8C%80_%ED%9E%99(Max_Heap).ipynb\" target=\"_parent\"><img src=\"https://colab.research.google.com/assets/colab-badge.svg\" alt=\"Open In Colab\"/></a>"
      ]
    },
    {
      "cell_type": "code",
      "execution_count": null,
      "metadata": {
        "id": "PXvLMRlm7pwb"
      },
      "outputs": [],
      "source": [
        "class MaxHeap :\n",
        "    def __init__ (self) :\n",
        "        self.heap = []\n",
        "        self.heap.append(0)\n",
        "    def size(self) : return len(self.heap) - 1\n",
        "    def isEmpty(self) : return self.size() == 0\n",
        "    def Parent(self, i) : return self.heap[i//2]\n",
        "    def Left(self, i) : return self.heap[i*2]\n",
        "    def Right(self, i) : return self.heap[i*2+1]\n",
        "    def display(self, msg = '힙 트리: ') :\n",
        "        print(msg, self.heap[1:])\n",
        "\n",
        "    def insert(self, n) :\n",
        "        self.heap.append(n)\n",
        "        i = self.size()\n",
        "        while (i != 1 and n > self.Parent(i)):\n",
        "            self.heap[i] = self.Parent(i)\n",
        "            i = i // 2\n",
        "        self.heap[i] = n\n",
        "\n",
        "    def delete(self) :\n",
        "        parent = 1\n",
        "        child = 2\n",
        "        if not self.isEmpty() :\n",
        "            hroot = self.heap[1]\n",
        "            last = self.heap[self.size()]\n",
        "            while (child <= self.size()):\n",
        "                if child<self.size() and self.Left(parent)<self.Right(parent):\n",
        "                    child += 1\n",
        "                if last >= self.heap[child] :\n",
        "                    break;\n",
        "                self.heap[parent] = self.heap[child]\n",
        "                parent = child\n",
        "                child *= 2;\n",
        "            self.heap[parent] = last\n",
        "            self.heap.pop(-1)\n",
        "            return hroot"
      ]
    },
    {
      "cell_type": "code",
      "source": [
        "heap = MaxHeap()\n",
        "data = [2, 5, 4, 8, 9, 3, 7, 3]\n",
        "print(\"[삽입 연산]: \", data)\n",
        "for elem in data :\n",
        "    heap.insert(elem)\n",
        "heap.display('[ 삽입 후 ]: ')\n",
        "heap.delete()\n",
        "heap.display('[ 삭제 후 ]: ')\n",
        "heap.delete()\n",
        "heap.display('[ 삭제 후 ]: ')"
      ],
      "metadata": {
        "id": "oYwykVtJ7yTJ"
      },
      "execution_count": null,
      "outputs": []
    }
  ]
}