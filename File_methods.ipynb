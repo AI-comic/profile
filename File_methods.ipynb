{
  "nbformat": 4,
  "nbformat_minor": 0,
  "metadata": {
    "colab": {
      "provenance": [],
      "authorship_tag": "ABX9TyOXt7WDSYPB+yQpty//333C",
      "include_colab_link": true
    },
    "kernelspec": {
      "name": "python3",
      "display_name": "Python 3"
    },
    "language_info": {
      "name": "python"
    }
  },
  "cells": [
    {
      "cell_type": "markdown",
      "metadata": {
        "id": "view-in-github",
        "colab_type": "text"
      },
      "source": [
        "<a href=\"https://colab.research.google.com/github/AI-comic/profile/blob/main/File_methods.ipynb\" target=\"_parent\"><img src=\"https://colab.research.google.com/assets/colab-badge.svg\" alt=\"Open In Colab\"/></a>"
      ]
    },
    {
      "cell_type": "markdown",
      "source": [
        "File 메소드(method)\n",
        "\n",
        "| |메소드|기능|\n",
        "|:--|:---:|:--:|\n",
        "|1|close()|열려 있는 파일을 닫음. 이미 닫힌 파일에 대해서는 효과가 없음.|\n",
        "|2|detach()|TextIOBase에서 기본 바이너리 버퍼를 분리하고 반환.|\n",
        "|3|fileno()|파일의 정수 번호(파일 디스크립터)를 반환.|\n",
        "|4|flush()|파일 스트림의 쓰기 버퍼를 비움.|\n",
        "|5|isatty()|파일 스트림이 대화형인 경우 True를 반환.|\n",
        "|6|read(n)|파일에서 최대 n개의 문자를 읽어옴. n이 음수이거나 None인 경우 파일의 끝까지 읽음.|\n",
        "|7|readable()|파일 스트림이 읽기 가능한 경우 True를 반환.|\n",
        "|8|readline(n=-1)|파일에서 한 줄을 읽고 반환. 지정된 경우 최대 n바이트를 읽음.|\n",
        "|9|readlines(n=-1)|파일에서 여러 줄을 읽고 리스트로 반환. 지정된 경우 최대 n바이트를 읽음.|\n",
        "|10|seek(offset, from=SEEK_SET)|파일 위치를 offset 바이트로 변경. from은 SEEK_SET(시작), SEEK_CUR(현재), SEEK_END(끝) 중 하나를 선택할 수 있음.|\n",
        "|11|seekable()|파일 스트림이 임의 접근을 지원하는 경우 True를 반환.|\n",
        "|12|tell()|파일 객체의 현재 위치를 나타내는 정수를 반환.|\n",
        "|13|truncate(size=None)|파일 스트림의 크기를 size 바이트로 조절. size가 지정되지 않은 경우 현재 위치로 크기를 조절.|\n",
        "|14|writable()|파일 스트림이 쓰기 가능한 경우 True를 반환.|\n",
        "|15|write(s)|문자열 s를 파일에 씀. 쓴 문자의 개수를 반환.|\n",
        "|16|writelines(lines)|리스트 형태의 문자열 lines를 파일에 씀.|"
      ],
      "metadata": {
        "id": "0K2xxvUW8rMl"
      }
    },
    {
      "cell_type": "code",
      "execution_count": null,
      "metadata": {
        "id": "gJPs2m0s8h5_"
      },
      "outputs": [],
      "source": [
        "# 1. close(): 열려 있는 파일을 닫습니다. 이미 닫힌 파일에 대해서는 효과가 없습니다.\n"
      ]
    },
    {
      "cell_type": "code",
      "source": [
        "# 2. detach(): TextIOBase에서 기본 바이너리 버퍼를 분리하고 반환합니다.\n"
      ],
      "metadata": {
        "id": "RvHcIGyroXo6"
      },
      "execution_count": null,
      "outputs": []
    },
    {
      "cell_type": "code",
      "source": [
        "# 3. fileno(): 파일의 정수 번호(파일 디스크립터)를 반환합니다.\n"
      ],
      "metadata": {
        "id": "G5qns7uLoe8i"
      },
      "execution_count": null,
      "outputs": []
    },
    {
      "cell_type": "code",
      "source": [
        "# 4. flush(): 파일 스트림의 쓰기 버퍼를 비웁니다.\n"
      ],
      "metadata": {
        "id": "7_t4HFh0oimh"
      },
      "execution_count": null,
      "outputs": []
    },
    {
      "cell_type": "code",
      "source": [
        "# 5. isatty(): 파일 스트림이 대화형인 경우 True를 반환합니다.\n"
      ],
      "metadata": {
        "id": "VvF_3hNRokyi"
      },
      "execution_count": null,
      "outputs": []
    },
    {
      "cell_type": "code",
      "source": [
        "# 6. read(n): 파일에서 최대 n개의 문자를 읽어옵니다. n이 음수이거나 None인 경우 파일의 끝까지 읽습니다.\n"
      ],
      "metadata": {
        "id": "_n6nhVuHonDy"
      },
      "execution_count": null,
      "outputs": []
    },
    {
      "cell_type": "code",
      "source": [
        "# 7. readable(): 파일 스트림이 읽기 가능한 경우 True를 반환합니다.\n"
      ],
      "metadata": {
        "id": "REVDD1hpopK6"
      },
      "execution_count": null,
      "outputs": []
    },
    {
      "cell_type": "code",
      "source": [
        "# 8. readline(n=-1): 파일에서 한 줄을 읽고 반환합니다. 지정된 경우 최대 n바이트를 읽습니다.\n"
      ],
      "metadata": {
        "id": "yQMHaQ_Moqx6"
      },
      "execution_count": null,
      "outputs": []
    },
    {
      "cell_type": "code",
      "source": [
        "# 9. readlines(n=-1): 파일에서 여러 줄을 읽고 리스트로 반환합니다. 지정된 경우 최대 n바이트를 읽습니다.\n"
      ],
      "metadata": {
        "id": "RaP-oQ4eoszh"
      },
      "execution_count": null,
      "outputs": []
    },
    {
      "cell_type": "code",
      "source": [
        "# 10. seek(offset, from=SEEK_SET): 파일 위치를 offset 바이트로 변경합니다. from은 SEEK_SET(시작), SEEK_CUR(현재), SEEK_END(끝) 중 하나를 선택할 수 있습니다.\n"
      ],
      "metadata": {
        "id": "-UmIlxlBouXq"
      },
      "execution_count": null,
      "outputs": []
    },
    {
      "cell_type": "code",
      "source": [
        "# 11. seekable(): 파일 스트림이 임의 접근을 지원하는 경우 True를 반환합니다.\n"
      ],
      "metadata": {
        "id": "8UVKVPV4ov1J"
      },
      "execution_count": null,
      "outputs": []
    },
    {
      "cell_type": "code",
      "source": [
        "# 12. tell(): 파일 객체의 현재 위치를 나타내는 정수를 반환합니다.\n"
      ],
      "metadata": {
        "id": "iMDTqbK4oxtR"
      },
      "execution_count": null,
      "outputs": []
    },
    {
      "cell_type": "code",
      "source": [
        "# 13. truncate(size=None): 파일 스트림의 크기를 size 바이트로 조절합니다. size가 지정되지 않은 경우 현재 위치로 크기를 조절합니다.\n"
      ],
      "metadata": {
        "id": "oUR1ipBBozda"
      },
      "execution_count": null,
      "outputs": []
    },
    {
      "cell_type": "code",
      "source": [
        "# 14. writable(): 파일 스트림이 쓰기 가능한 경우 True를 반환합니다.\n"
      ],
      "metadata": {
        "id": "D0-1u0Uyo1QS"
      },
      "execution_count": null,
      "outputs": []
    },
    {
      "cell_type": "code",
      "source": [
        "# 15. write(s): 문자열 s를 파일에 씁니다. 쓴 문자의 개수를 반환합니다.\n"
      ],
      "metadata": {
        "id": "-6k_2I6ro3Kr"
      },
      "execution_count": null,
      "outputs": []
    },
    {
      "cell_type": "code",
      "source": [
        "# 16. writelines(lines): 리스트 형태의 문자열 lines를 파일에 씁니다."
      ],
      "metadata": {
        "id": "Uh-NAs5xo4fh"
      },
      "execution_count": null,
      "outputs": []
    }
  ]
}