{
  "nbformat": 4,
  "nbformat_minor": 0,
  "metadata": {
    "colab": {
      "provenance": [],
      "authorship_tag": "ABX9TyP1PjwvsQ0QBVfC5g4KMIm2",
      "include_colab_link": true
    },
    "kernelspec": {
      "name": "python3",
      "display_name": "Python 3"
    },
    "language_info": {
      "name": "python"
    }
  },
  "cells": [
    {
      "cell_type": "markdown",
      "metadata": {
        "id": "view-in-github",
        "colab_type": "text"
      },
      "source": [
        "<a href=\"https://colab.research.google.com/github/AI-comic/profile/blob/main/240424_%EC%B4%88%EB%93%B1%ED%95%99%EA%B5%90_%EC%84%B1%EC%A0%81_%26_%EC%83%81%EC%86%8D%2C_%EC%BA%A1%EC%8A%90%ED%99%94.ipynb\" target=\"_parent\"><img src=\"https://colab.research.google.com/assets/colab-badge.svg\" alt=\"Open In Colab\"/></a>"
      ]
    },
    {
      "cell_type": "code",
      "execution_count": null,
      "metadata": {
        "id": "wwIDGZ7FkPrE"
      },
      "outputs": [],
      "source": [
        "import random\n",
        "\n",
        "score = {}\n",
        "\n",
        "for year in range(1, 7):\n",
        "    year_key = f\"{year}학년\"\n",
        "    score[year_key] = {}\n",
        "\n",
        "    for classnum in range(1, 5):\n",
        "        class_key = f\"{classnum}반\"\n",
        "        score[year_key][class_key] = {}\n",
        "\n",
        "        for student in range(1, 21):\n",
        "            student_key = f\"{student}번\"\n",
        "            score[year_key][class_key][student_key] = {'국어':random.randint(0,100),'영어':random.randint(0,100),'수학':random.randint(0,100)}\n"
      ]
    },
    {
      "cell_type": "code",
      "source": [
        "total_scores1 = []\n",
        "for class_key, class_value in score[\"1학년\"].items():\n",
        "    for student_key, student_value in class_value.items():\n",
        "        total_score1 = sum(student_value.values())\n",
        "        total_scores1.append((class_key, student_key, total_score1))\n",
        "total_scores1.sort(key=lambda x: x[2],reverse=True)\n",
        "\n",
        "total_scores2 = []\n",
        "for class_key, class_value in score[\"2학년\"].items():\n",
        "    for student_key, student_value in class_value.items():\n",
        "        total_score2 = sum(student_value.values())\n",
        "        total_scores2.append((class_key, student_key, total_score2))\n",
        "total_scores2.sort(key=lambda x: x[2],reverse=True)\n",
        "\n",
        "total_scores3 = []\n",
        "for class_key, class_value in score[\"3학년\"].items():\n",
        "    for student_key, student_value in class_value.items():\n",
        "        total_score3 = sum(student_value.values())\n",
        "        total_scores3.append((class_key, student_key, total_score3))\n",
        "total_scores3.sort(key=lambda x: x[2],reverse=True)\n",
        "\n",
        "total_scores4 = []\n",
        "for class_key, class_value in score[\"4학년\"].items():\n",
        "    for student_key, student_value in class_value.items():\n",
        "        total_score4 = sum(student_value.values())\n",
        "        total_scores4.append((class_key, student_key, total_score4))\n",
        "total_scores4.sort(key=lambda x: x[2],reverse=True)\n",
        "\n",
        "total_scores5 = []\n",
        "for class_key, class_value in score[\"5학년\"].items():\n",
        "    for student_key, student_value in class_value.items():\n",
        "        total_score5 = sum(student_value.values())\n",
        "        total_scores5.append((class_key, student_key, total_score5))\n",
        "total_scores5.sort(key=lambda x: x[2],reverse=True)\n",
        "\n",
        "total_scores6 = []\n",
        "for class_key, class_value in score[\"6학년\"].items():\n",
        "    for student_key, student_value in class_value.items():\n",
        "        total_score6 = sum(student_value.values())\n",
        "        total_scores6.append((class_key, student_key, total_score6))\n",
        "total_scores6.sort(key=lambda x: x[2],reverse=True)"
      ],
      "metadata": {
        "id": "nqYEiycNaf5X"
      },
      "execution_count": null,
      "outputs": []
    },
    {
      "cell_type": "code",
      "source": [
        "# year_my = int(input('학년: '))\n",
        "# class_my = int(input('반: '))\n",
        "# student_my = int(input('번호: '))\n",
        "\n",
        "# if year_my == 1:\n",
        "#     for rank, (class_key, student_key, total_score1) in enumerate(total_scores1, start=1):\n",
        "#         if class_key == f\"{class_my}반\" and student_key == f\"{student_my}번\":\n",
        "#             print(f\"1학년 {class_key} {student_key} {total_score1}점, {rank}등\")\n",
        "\n",
        "# elif year_my == 2:\n",
        "#     for rank, (class_key, student_key, total_score2) in enumerate(total_scores2, start=1):\n",
        "#         if class_key == f\"{class_my}반\" and student_key == f\"{student_my}번\":\n",
        "#             print(f\"2학년 {class_key} {student_key} {total_score2}점, {rank}등\")\n",
        "\n",
        "# elif year_my == 3:\n",
        "#     for rank, (class_key, student_key, total_score3) in enumerate(total_scores3, start=1):\n",
        "#         if class_key == f\"{class_my}반\" and student_key == f\"{student_my}번\":\n",
        "#             print(f\"3학년 {class_key} {student_key} {total_score3}점, {rank}등\")\n",
        "\n",
        "# elif year_my == 4:\n",
        "#     for rank, (class_key, student_key, total_score4) in enumerate(total_scores4, start=1):\n",
        "#         if class_key == f\"{class_my}반\" and student_key == f\"{student_my}번\":\n",
        "#             print(f\"4학년 {class_key} {student_key} {total_score4}점, {rank}등\")\n",
        "\n",
        "# elif year_my == 5:\n",
        "#     for rank, (class_key, student_key, total_score5) in enumerate(total_scores5, start=1):\n",
        "#         if class_key == f\"{class_my}반\" and student_key == f\"{student_my}번\":\n",
        "#             print(f\"5학년 {class_key} {student_key} {total_score5}점, {rank}등\")\n",
        "\n",
        "# elif year_my == 6:\n",
        "#     for rank, (class_key, student_key, total_score6) in enumerate(total_scores6, start=1):\n",
        "#         if class_key == f\"{class_my}반\" and student_key == f\"{student_my}번\":\n",
        "#             print(f\"6학년 {class_key} {student_key} {total_score6}점, {rank}등\")\n",
        "\n",
        "\n",
        "def student_info(year, classnum, student, total_scores):\n",
        "    for rank, (class_key, student_key, total_score) in enumerate(total_scores, start=1):\n",
        "        if class_key == f\"{classnum}반\" and student_key == f\"{student}번\":\n",
        "            print(f\"{year}학년 {class_key} {student_key} {total_score}점, {rank}등\")\n",
        "\n",
        "year_my = int(input('학년: '))\n",
        "class_my = int(input('반: '))\n",
        "student_my = int(input('번호: '))\n",
        "\n",
        "if year_my == 1:\n",
        "    student_info(\"1\", class_my, student_my, total_scores1)\n",
        "elif year_my == 2:\n",
        "    student_info(\"2\", class_my, student_my, total_scores2)\n",
        "elif year_my == 5:\n",
        "    student_info(\"3\", class_my, student_my, total_scores3)\n",
        "elif year_my == 4:\n",
        "    student_info(\"4\", class_my, student_my, total_scores4)\n",
        "elif year_my == 5:\n",
        "    student_info(\"5\", class_my, student_my, total_scores5)\n",
        "elif year_my == 6:\n",
        "    student_info(\"6\", class_my, student_my, total_scores6)"
      ],
      "metadata": {
        "id": "U72ZIPKtagag"
      },
      "execution_count": null,
      "outputs": []
    },
    {
      "cell_type": "code",
      "source": [
        "class Bird:\n",
        "    def __init__(self):\n",
        "        print(\"Bird is ready\")\n",
        "    def whoisThis(self):\n",
        "        print(\"Bird\")\n",
        "    def swim(self):\n",
        "        print(\"Swim faster\")\n",
        "\n",
        "class Penguin(Bird):\n",
        "    def __init__(self):\n",
        "        super().__init__()          #부모클래스를 자식클래스에서 초기화\n",
        "        print(\"Penguin is ready\")\n",
        "    def whoisThis(self):\n",
        "        print(\"Penguin\")\n",
        "    def run(self):\n",
        "        print(\"Run faster\")\n",
        "peggy = Penguin()\n",
        "# peggy.whoisThis()\n",
        "# peggy.swim()\n",
        "# peggy.run()"
      ],
      "metadata": {
        "colab": {
          "base_uri": "https://localhost:8080/"
        },
        "id": "oIhHQJp4agfX",
        "outputId": "2cbff01b-bdce-46ce-a362-232876981429"
      },
      "execution_count": 5,
      "outputs": [
        {
          "output_type": "stream",
          "name": "stdout",
          "text": [
            "Bird is ready\n",
            "Penguin is ready\n"
          ]
        }
      ]
    },
    {
      "cell_type": "code",
      "source": [
        "class Computer:\n",
        "    maxprice2 = 100\n",
        "    def __init__(self):\n",
        "        self.__maxprice = 900           #캡슐화\n",
        "    def sell(self):\n",
        "        print(\"Selling Price: {}\".format(self.__maxprice))\n",
        "    def setMaxPrice(self, price):       #이 함수가 없으면 외부에서 값을 변경할 수 없다.\n",
        "        self.__maxprice = price\n",
        "c = Computer()\n",
        "c.sell()\n",
        "\n",
        "c.__maxprice = 1000\n",
        "c.sell()"
      ],
      "metadata": {
        "colab": {
          "base_uri": "https://localhost:8080/"
        },
        "id": "J-RcWehkaglv",
        "outputId": "9318cd42-4d0a-42e6-9f48-f828694f29fb"
      },
      "execution_count": 14,
      "outputs": [
        {
          "output_type": "stream",
          "name": "stdout",
          "text": [
            "Selling Price: 900\n",
            "Selling Price: 900\n"
          ]
        }
      ]
    },
    {
      "cell_type": "code",
      "source": [
        "c.setMaxPrice(1000)\n",
        "c.sell()"
      ],
      "metadata": {
        "colab": {
          "base_uri": "https://localhost:8080/"
        },
        "id": "XRIkU8uCagsa",
        "outputId": "82392328-fce6-4aee-ff1f-d16bd9a2081f"
      },
      "execution_count": 13,
      "outputs": [
        {
          "output_type": "stream",
          "name": "stdout",
          "text": [
            "Selling Price: 1000\n"
          ]
        }
      ]
    },
    {
      "cell_type": "code",
      "source": [
        "c.maxprice2 = 200\n",
        "print(c.maxprice2)"
      ],
      "metadata": {
        "colab": {
          "base_uri": "https://localhost:8080/"
        },
        "id": "CYjZYnRfwXqS",
        "outputId": "937c590d-113f-4401-df76-1b7710b6d2ad"
      },
      "execution_count": 16,
      "outputs": [
        {
          "output_type": "stream",
          "name": "stdout",
          "text": [
            "200\n"
          ]
        }
      ]
    }
  ]
}