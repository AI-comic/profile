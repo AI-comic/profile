{
  "nbformat": 4,
  "nbformat_minor": 0,
  "metadata": {
    "colab": {
      "provenance": [],
      "mount_file_id": "14I4kIoGsM1qaGuSFAJahX7xYN7jHApMy",
      "authorship_tag": "ABX9TyMgcChn1EctvPddkEp3pyKb",
      "include_colab_link": true
    },
    "kernelspec": {
      "name": "python3",
      "display_name": "Python 3"
    },
    "language_info": {
      "name": "python"
    }
  },
  "cells": [
    {
      "cell_type": "markdown",
      "metadata": {
        "id": "view-in-github",
        "colab_type": "text"
      },
      "source": [
        "<a href=\"https://colab.research.google.com/github/AI-comic/profile/blob/main/240412_KNN.ipynb\" target=\"_parent\"><img src=\"https://colab.research.google.com/assets/colab-badge.svg\" alt=\"Open In Colab\"/></a>"
      ]
    },
    {
      "cell_type": "code",
      "source": [],
      "metadata": {
        "id": "oLM19YKfwEsM"
      },
      "execution_count": 12,
      "outputs": []
    },
    {
      "cell_type": "code",
      "execution_count": 1,
      "metadata": {
        "id": "pBRrVa68R6W5",
        "colab": {
          "base_uri": "https://localhost:8080/",
          "height": 251
        },
        "outputId": "d5669bc0-e0bd-49f0-c170-9fe08a08515d"
      },
      "outputs": [
        {
          "output_type": "display_data",
          "data": {
            "text/plain": [
              "<Figure size 200x200 with 1 Axes>"
            ],
            "image/png": "[encoded data removed]"
          },
          "metadata": {}
        }
      ],
      "source": [
        "import matplotlib.pyplot as plt\n",
        "import numpy as np\n",
        "\n",
        "plt.style.use('_mpl-gallery')\n",
        "\n",
        "# make the data\n",
        "np.random.seed(3)\n",
        "x = 4 + np.random.normal(0, 2, 24)\n",
        "y = 4 + np.random.normal(0, 2, len(x))\n",
        "# size and color:\n",
        "sizes = np.random.uniform(15, 80, len(x))\n",
        "colors = np.random.uniform(15, 80, len(x))\n",
        "\n",
        "# plot\n",
        "fig, ax = plt.subplots()\n",
        "\n",
        "ax.scatter(x, y, s=sizes, c=colors, vmin=0, vmax=100)\n",
        "\n",
        "ax.set(xlim=(0, 8), xticks=np.arange(1, 8),\n",
        "       ylim=(0, 8), yticks=np.arange(1, 8))\n",
        "\n",
        "plt.show()"
      ]
    },
    {
      "cell_type": "code",
      "source": [
        "import matplotlib.pyplot as plt\n",
        "import numpy as np\n",
        "\n",
        "man_h = []\n",
        "for i in range(100):\n",
        "    man_h.append(random.randint(170, 190))\n",
        "\n",
        "man_w = []\n",
        "for i in range(100):\n",
        "    man_w.append(random.randint(65, 110))\n",
        "\n",
        "woman_h = []\n",
        "for i in range(100):\n",
        "    woman_h.append(random.randint(150, 175))\n",
        "\n",
        "woman_w = []\n",
        "for i in range(100):\n",
        "    woman_w.append(random.randint(50, 80))\n",
        "\n",
        "fig, ax = plt.subplots()\n",
        "\n",
        "ax.scatter(man_w, man_h, c='skyblue')\n",
        "\n",
        "ax.scatter(woman_w, woman_h, c='pink')\n",
        "\n",
        "plt.show()"
      ],
      "metadata": {
        "colab": {
          "base_uri": "https://localhost:8080/",
          "height": 251
        },
        "id": "E5z5_Vb-yart",
        "outputId": "a78cb36c-8703-441a-94c0-6324dba036f8"
      },
      "execution_count": 11,
      "outputs": [
        {
          "output_type": "display_data",
          "data": {
            "text/plain": [
              "<Figure size 200x200 with 1 Axes>"
            ],
            "image/png": "[encoded data removed]"
          },
          "metadata": {}
        }
      ]
    },
    {
      "cell_type": "code",
      "source": [
        "import random\n",
        "import math\n",
        "\n",
        "# 샘플 데이터 생성\n",
        "people = []\n",
        "for i in range(100):\n",
        "    man_height = random.randint(170, 190)\n",
        "    man_weight = random.randint(65, 110)\n",
        "    woman_height = random.randint(150, 175)\n",
        "    woman_weight = random.randint(50, 80)\n",
        "    man = [man_weight, man_height, '남']\n",
        "    woman = [woman_weight, woman_height, '여']\n",
        "    people.append(man)\n",
        "    people.append(woman)\n",
        "\n",
        "# 테스트 데이터 생성\n",
        "test_weight = random.randint(50, 110)\n",
        "test_height = random.randint(150, 190)\n",
        "test_data = [test_weight, test_height]\n",
        "\n",
        "# 거리 계산\n",
        "distances = []\n",
        "for person in people:\n",
        "    distance = math.sqrt((person[0] - test_data[0]) ** 2 + (person[1] - test_data[1]) ** 2)\n",
        "    sample = [distance, person[2]]\n",
        "    distances.append(sample)\n",
        "\n",
        "# 거리 기준으로 정렬\n",
        "for i in range(len(distances)):\n",
        "    for j in range(i + 1, len(distances)):\n",
        "        if distances[i][0] > distances[j][0]:\n",
        "            distances[i], distances[j] = distances[j], distances[i]\n",
        "\n",
        "# 최근접 이웃(KNN)을 사용하여 성별 예측\n",
        "k = 10\n",
        "male_count = 0\n",
        "female_count = 0\n",
        "for i in range(k):\n",
        "    if distances[i][1] == '남':\n",
        "        male_count += 1\n",
        "    elif distances[i][1] == '여':\n",
        "        female_count += 1\n",
        "\n",
        "# 결과 출력\n",
        "if male_count > female_count:\n",
        "    print('몸무게: {}, 키: {} 성별은 {}로 예측'.format(test_weight, test_height, '남자'))\n",
        "else:\n",
        "    print('몸무게: {}, 키: {} 성별은 {}로 예측'.format(test_weight, test_height, '여자'))\n"
      ],
      "metadata": {
        "colab": {
          "base_uri": "https://localhost:8080/"
        },
        "id": "Auzd_J6-Es7T",
        "outputId": "64eaa339-1998-4ce6-926a-6ab7fbc7f080"
      },
      "execution_count": 76,
      "outputs": [
        {
          "output_type": "stream",
          "name": "stdout",
          "text": [
            "몸무게: 61, 키: 183 성별은 남자로 예측\n"
          ]
        }
      ]
    },
    {
      "cell_type": "code",
      "source": [
        "def knn_classification(samples, test_data, k=3):\n",
        "    # 거리 계산\n",
        "    distances = []\n",
        "    for sample in samples:\n",
        "        distance = math.sqrt((sample[0] - test_data[0]) ** 2 + (sample[1] - test_data[1]) ** 2)\n",
        "        sample_with_distance = [distance, sample[2]]\n",
        "        distances.append(sample_with_distance)\n",
        "\n",
        "    # 거리를 기준으로 정렬\n",
        "    for i in range(len(distances)):\n",
        "        for j in range(i + 1, len(distances)):\n",
        "            if distances[i][0] > distances[j][0]:\n",
        "                distances[i], distances[j] = distances[j], distances[i]\n",
        "\n",
        "    # k개의 샘플로 예측\n",
        "    male_count = 0\n",
        "    female_count = 0\n",
        "    for i in range(k):\n",
        "        if distances[i][1] == '남':\n",
        "            male_count += 1\n",
        "        elif distances[i][1] == '여':\n",
        "            female_count += 1\n",
        "\n",
        "    # 예측 결과 반환\n",
        "    if male_count > female_count:\n",
        "        prediction = '남자'\n",
        "    else:\n",
        "        prediction = '여자'\n",
        "\n",
        "    return prediction\n",
        "\n",
        "# 테스트를 위한 데이터 생성 및 예측\n",
        "for i in range(10):\n",
        "    test_weight = random.randint(50, 110)\n",
        "    test_height = random.randint(150, 190)\n",
        "    test_data = [test_weight, test_height]\n",
        "    print('몸무게: {}, 키: {} 성별은 {}로 예측'.format(test_weight, test_height, knn_classification(samples, test_data, k=5)))"
      ],
      "metadata": {
        "colab": {
          "base_uri": "https://localhost:8080/"
        },
        "id": "LrFP5WEro2Bt",
        "outputId": "6e4e2f42-3046-4b75-f2e6-92040aed3a36"
      },
      "execution_count": 75,
      "outputs": [
        {
          "output_type": "stream",
          "name": "stdout",
          "text": [
            "몸무게: 68, 키: 151 성별은 여자로 예측\n",
            "몸무게: 87, 키: 156 성별은 여자로 예측\n",
            "몸무게: 51, 키: 179 성별은 여자로 예측\n",
            "몸무게: 55, 키: 177 성별은 여자로 예측\n",
            "몸무게: 69, 키: 177 성별은 남자로 예측\n",
            "몸무게: 69, 키: 186 성별은 남자로 예측\n",
            "몸무게: 70, 키: 167 성별은 여자로 예측\n",
            "몸무게: 74, 키: 174 성별은 남자로 예측\n",
            "몸무게: 91, 키: 162 성별은 남자로 예측\n",
            "몸무게: 96, 키: 173 성별은 남자로 예측\n"
          ]
        }
      ]
    },
    {
      "cell_type": "code",
      "source": [
        "a = [6,2,1,9,3,10,8,7,5,4]\n",
        "\n",
        "for i in range(len(a)):\n",
        "    for j in range(i+1, len(a)):\n",
        "        if a[i] > a[j]:\n",
        "            temp = a[j]\n",
        "            a[j] = a[i]\n",
        "            a[i] = temp\n",
        "print(a)"
      ],
      "metadata": {
        "colab": {
          "base_uri": "https://localhost:8080/"
        },
        "id": "bAdNMgJUjs1T",
        "outputId": "3dd10427-4da4-4adb-efcb-4e83bb90aed2"
      },
      "execution_count": 15,
      "outputs": [
        {
          "output_type": "stream",
          "name": "stdout",
          "text": [
            "[1, 2, 3, 4, 5, 6, 7, 8, 9, 10]\n"
          ]
        }
      ]
    },
    {
      "cell_type": "code",
      "source": [
        "a = [6,2,9,10,8,7,1,5,4,3]\n",
        "\n",
        "for i in range(len(a)):\n",
        "    for j in range(i+1, len(a)):\n",
        "        if a[i] > a[j]:\n",
        "           a[i],a[j] = a[j],a[i]\n",
        "print(a)"
      ],
      "metadata": {
        "colab": {
          "base_uri": "https://localhost:8080/"
        },
        "id": "mrOBdqWZlThT",
        "outputId": "a746b6c2-5acf-4688-fedc-a2bafc5a2d57"
      },
      "execution_count": 12,
      "outputs": [
        {
          "output_type": "stream",
          "name": "stdout",
          "text": [
            "[1, 2, 3, 4, 5, 6, 7, 8, 9, 10]\n"
          ]
        }
      ]
    },
    {
      "cell_type": "code",
      "source": [
        "랜덤 샘플 500개\n",
        "[키(150-190), 몸무게(50-110), 그룹명]\n",
        "랜덤 중심점 x = [a,b,그룹]\n",
        "랜덤 중심점 y = [c,d,그룹]\n",
        "\n",
        "'점과 중심점 x의 거리 > 점과 중심점 y의 거리'라면 a는 그룹 1 반대라면 그룹 2\n",
        "\n",
        "그룹의 중심점이 고정될 때까지 반복"
      ],
      "metadata": {
        "id": "mdsAto5t1RWe"
      },
      "execution_count": null,
      "outputs": []
    },
    {
      "cell_type": "code",
      "source": [
        "import random\n",
        "import math\n",
        "\n",
        "x = (random.randint(150, 190), random.randint(50, 110))\n",
        "y = (random.randint(150, 190), random.randint(50, 110))\n",
        "\n",
        "means = []\n",
        "for i in range(500):\n",
        "    n = [height, weight, group]\n",
        "    height = random.randint(150, 190)\n",
        "    weight = random.randint(50, 110)\n",
        "\n",
        "    distance_x = math.sqrt((height - x[0])**2 + (weight - x[1])**2)\n",
        "    distance_y = math.sqrt((height - y[0])**2 + (weight - y[1])**2)\n",
        "\n",
        "    if distance_x < distance_y:\n",
        "        group = 1\n",
        "    else:\n",
        "        group = 2\n",
        "    means.append(n)"
      ],
      "metadata": {
        "colab": {
          "base_uri": "https://localhost:8080/"
        },
        "id": "ldW5EmLZ42lk",
        "outputId": "f5b6f5a0-05d6-47cf-93da-043476ff075d"
      },
      "execution_count": 74,
      "outputs": [
        {
          "output_type": "stream",
          "name": "stdout",
          "text": [
            "0\n"
          ]
        }
      ]
    }
  ]
}