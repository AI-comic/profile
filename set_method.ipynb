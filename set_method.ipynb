{
  "nbformat": 4,
  "nbformat_minor": 0,
  "metadata": {
    "colab": {
      "provenance": [],
      "include_colab_link": true
    },
    "kernelspec": {
      "name": "python3",
      "display_name": "Python 3"
    },
    "language_info": {
      "name": "python"
    }
  },
  "cells": [
    {
      "cell_type": "markdown",
      "metadata": {
        "id": "view-in-github",
        "colab_type": "text"
      },
      "source": [
        "<a href=\"https://colab.research.google.com/github/AI-comic/profile/blob/main/set_method.ipynb\" target=\"_parent\"><img src=\"https://colab.research.google.com/assets/colab-badge.svg\" alt=\"Open In Colab\"/></a>"
      ]
    },
    {
      "cell_type": "markdown",
      "source": [
        "Set 메소드(method)  \n",
        "\n",
        "| |메소드|기능|\n",
        "|:--|:---:|:--:|\n",
        "|1|add|하나의 아이템/원소를 추가|\n",
        "|2|update|다수의 아이템/원소를 추가(단일 리터럴(literal)은 추가 안됨)|\n",
        "|3|clear|모든 아이템/원소를 제거|\n",
        "|4|pop|set에서 임의의 원소/아이템을 제거하고, 해당 원소/아이템을 반환(빈 set에 pop 수행시에 오류 발생)|\n",
        "|5|remove|set에서 주어진 원소/아이템을 제거(주어진 원소/아이템이 set에 존재하지 않으면 오류 발생)|\n",
        "|6|discard|set에서 주어진 원소/아이템을 제거, 만약 원소/아이템이 존재하지 않는다면 기존 set의 요소들 유지|\n",
        "|7|copy|set의 모든 아이템/원소를 복사하여 새로운 set으로 반환|\n",
        "|8|difference|비교 set/sets과의 차이를 새로운 set으로 반환 (자기자신을 기준으로 사용)|\n",
        "|9|difference_update|비교 set/sets의 아이템/원소를 set에서 제거|\n",
        "|10|intersection|주어진 set/sets과 공통된 아이템/원소를 새로운 set으로 반환(교집합)|\n",
        "|11|intersection_update|주어진 set/sets과 공통된 아이템/원소로 set을 갱신|\n",
        "|12|symmetric_difference|주어진 set과 공통되지 않은 원소/아이템을 새로운 set으로 반환|\n",
        "|13|symmetric_difference_update|주어진 set과 공통되지 않은 원소/아이템로 set 갱신|\n",
        "|14|union|주어진 set를 현재 set에 추가하여 현재 set를 갱신(합집합)|\n",
        "|15|isdisjoint|주어진 set과 공통된 아이템이 없다면 'True'반환, 반대의 경우에는 'False' 반환|\n",
        "|16|issubset|주어진 set이 현재 set을 포함한다면 'True 반환, 반대의 경우에는 'False' 반환|\n",
        "|17|issuperset|현재 set이 주어진 set을 포함한다면 'True 반환, 반대의 경우에는 'False' 반환|"
      ],
      "metadata": {
        "id": "olyJuXuweOgc"
      }
    },
    {
      "cell_type": "code",
      "source": [
        "#메소드: add\n",
        "data_set = {1,2,3}\n",
        "data_set.add(4); print(data_set)\n",
        "data_set.add((5, 6)); print(data_set)\n",
        "data_set.add(tuple([7, 8, 9])); print(data_set)"
      ],
      "metadata": {
        "colab": {
          "base_uri": "https://localhost:8080/"
        },
        "id": "Zx-OR2hyeN0u",
        "outputId": "647a1953-278b-4d46-f0b6-c74d6cd7a281"
      },
      "execution_count": null,
      "outputs": [
        {
          "output_type": "stream",
          "name": "stdout",
          "text": [
            "{1, 2, 3, 4}\n",
            "{1, 2, 3, 4, (5, 6)}\n",
            "{1, 2, 3, 4, (5, 6), (7, 8, 9)}\n"
          ]
        }
      ]
    },
    {
      "cell_type": "code",
      "source": [
        "#메소드: update\n",
        "data_set = {1,2,3}\n",
        "data_set.update([4, 5], {6,7}); print(data_set)\n",
        "data_set.update([8]); print(data_set)\n",
        "data_set.update((9, 10)); print(data_set)"
      ],
      "metadata": {
        "id": "gwrhFC3b181p",
        "colab": {
          "base_uri": "https://localhost:8080/"
        },
        "outputId": "92fad357-67ce-4f04-8b8a-814c57b38791"
      },
      "execution_count": null,
      "outputs": [
        {
          "output_type": "stream",
          "name": "stdout",
          "text": [
            "{1, 2, 3, 4, 5, 6, 7}\n",
            "{1, 2, 3, 4, 5, 6, 7, 8}\n",
            "{1, 2, 3, 4, 5, 6, 7, 8, 9, 10}\n"
          ]
        }
      ]
    },
    {
      "cell_type": "code",
      "source": [
        "#메소드: clear\n",
        "data_set = {1,2,3}; print(data_set)\n",
        "data_set.clear(); print(data_set)"
      ],
      "metadata": {
        "id": "8ABGKR6u8c_b",
        "outputId": "8f6c556f-40c6-4ba5-dcb1-3f7c30d84378",
        "colab": {
          "base_uri": "https://localhost:8080/"
        }
      },
      "execution_count": null,
      "outputs": [
        {
          "output_type": "stream",
          "name": "stdout",
          "text": [
            "{1, 2, 3}\n",
            "set()\n"
          ]
        }
      ]
    },
    {
      "cell_type": "code",
      "source": [
        "#메소드: pop\n",
        "data_set = {1,2,3}\n",
        "print(data_set.pop()); print(data_set)\n",
        "print(data_set.pop()); print(data_set)\n",
        "print(data_set.pop()); print(data_set)\n",
        "data_set = {x for x in range(100)}; print(data_set.pop()); print(data_set)"
      ],
      "metadata": {
        "colab": {
          "base_uri": "https://localhost:8080/"
        },
        "id": "TA0HP5rNu17X",
        "outputId": "d7278030-53b0-41ce-99d1-80d2d2178a6d"
      },
      "execution_count": null,
      "outputs": [
        {
          "output_type": "stream",
          "name": "stdout",
          "text": [
            "1\n",
            "{2, 3}\n",
            "2\n",
            "{3}\n",
            "3\n",
            "set()\n",
            "0\n",
            "{1, 2, 3, 4, 5, 6, 7, 8, 9, 10, 11, 12, 13, 14, 15, 16, 17, 18, 19, 20, 21, 22, 23, 24, 25, 26, 27, 28, 29, 30, 31, 32, 33, 34, 35, 36, 37, 38, 39, 40, 41, 42, 43, 44, 45, 46, 47, 48, 49, 50, 51, 52, 53, 54, 55, 56, 57, 58, 59, 60, 61, 62, 63, 64, 65, 66, 67, 68, 69, 70, 71, 72, 73, 74, 75, 76, 77, 78, 79, 80, 81, 82, 83, 84, 85, 86, 87, 88, 89, 90, 91, 92, 93, 94, 95, 96, 97, 98, 99}\n"
          ]
        }
      ]
    },
    {
      "cell_type": "code",
      "source": [
        "#메소드: remove\n",
        "data_set = {1,2,3}\n",
        "data_set.remove(2); print(data_set)\n",
        "data_set.remove(1); print(data_set)\n",
        "data_set.remove(3); print(data_set)"
      ],
      "metadata": {
        "colab": {
          "base_uri": "https://localhost:8080/"
        },
        "id": "uQk8Gf0QvALE",
        "outputId": "363bac95-865a-442e-9be5-4cf24e55c003"
      },
      "execution_count": null,
      "outputs": [
        {
          "output_type": "stream",
          "name": "stdout",
          "text": [
            "{1, 3}\n",
            "{3}\n",
            "set()\n"
          ]
        }
      ]
    },
    {
      "cell_type": "code",
      "source": [
        "#메소드: discard\n",
        "data_set = {1,2,3,4,5,6}\n",
        "data_set.discard(2); print(data_set)\n",
        "data_set.discard(7); print(data_set)"
      ],
      "metadata": {
        "colab": {
          "base_uri": "https://localhost:8080/"
        },
        "id": "jydYdxOOmyqS",
        "outputId": "03f8f174-dbe4-4cfd-fc72-3da0a9f97b2f"
      },
      "execution_count": null,
      "outputs": [
        {
          "output_type": "stream",
          "name": "stdout",
          "text": [
            "{1, 3, 4, 5, 6}\n",
            "{1, 3, 4, 5, 6}\n"
          ]
        }
      ]
    },
    {
      "cell_type": "code",
      "source": [
        "#메소드: copy\n",
        "data1_set = {1,2,3}; print(data1_set)\n",
        "data2_set = data1_set.copy(); print(data2_set)\n",
        "data3_set = data1_set; print(data3_set)\n",
        "data1_set.add(4); print(data1_set); print(data2_set); print(data3_set)"
      ],
      "metadata": {
        "id": "CAiZDzPf8hAV",
        "colab": {
          "base_uri": "https://localhost:8080/"
        },
        "outputId": "d5b1494e-ccd0-4f83-c003-89b5169e6d4d"
      },
      "execution_count": null,
      "outputs": [
        {
          "output_type": "stream",
          "name": "stdout",
          "text": [
            "{1, 2, 3}\n",
            "{1, 2, 3}\n",
            "{1, 2, 3}\n",
            "{1, 2, 3, 4}\n",
            "{1, 2, 3}\n",
            "{1, 2, 3, 4}\n"
          ]
        }
      ]
    },
    {
      "cell_type": "code",
      "source": [
        "#메소드: difference\n",
        "data1_set = {1,2,3}; data2_set = {4,5,6}; data3_set = {1,2,3,4,5,6}\n",
        "data4_set = data3_set.difference(data1_set); print(data4_set)\n",
        "data5_set = data3_set.difference(data2_set); print(data5_set)\n",
        "data6_set = data3_set.difference(data1_set, data2_set); print(data6_set)\n",
        "data7_set = data1_set.difference(data2_set); print(data7_set)\n",
        "data8_set = data1_set.difference(data3_set); print(data8_set)"
      ],
      "metadata": {
        "colab": {
          "base_uri": "https://localhost:8080/"
        },
        "id": "RzYNza6PkGmJ",
        "outputId": "9d495534-9626-4baa-b3bd-05abffc58fb2"
      },
      "execution_count": null,
      "outputs": [
        {
          "output_type": "stream",
          "name": "stdout",
          "text": [
            "{4, 5, 6}\n",
            "{1, 2, 3}\n",
            "set()\n",
            "{1, 2, 3}\n",
            "set()\n"
          ]
        }
      ]
    },
    {
      "cell_type": "code",
      "source": [
        "#메소드: difference_update\n",
        "data1_set = {1,2,3}; data2_set = {4,5,6}; data3_set = {1,2,3,4,5,6}\n",
        "data3_set.difference_update(data1_set); print(data3_set)\n",
        "data3_set = {1,2,3,4,5,6}; data3_set.difference_update(data2_set); print(data3_set)\n",
        "data3_set = {1,2,3,4,5,6}; data3_set.difference_update(data1_set, data2_set); print(data3_set)"
      ],
      "metadata": {
        "colab": {
          "base_uri": "https://localhost:8080/"
        },
        "id": "KqZN8gO0lD5c",
        "outputId": "e94ff1a5-7532-4f1b-d91c-60b3a099efcb"
      },
      "execution_count": null,
      "outputs": [
        {
          "output_type": "stream",
          "name": "stdout",
          "text": [
            "{4, 5, 6}\n",
            "{1, 2, 3}\n",
            "set()\n"
          ]
        }
      ]
    },
    {
      "cell_type": "code",
      "source": [
        "#메소드: intersection\n",
        "data1_set = {1,2,3}; data2_set = {4,5,6}; data3_set = {1,2,3,4,5,6};\n",
        "data4_set = data1_set.intersection(data2_set); print(data4_set)\n",
        "data5_set = data1_set.intersection(data3_set); print(data5_set)\n",
        "data6_set = data3_set.intersection(data1_set, {1,2}); print(data6_set)"
      ],
      "metadata": {
        "colab": {
          "base_uri": "https://localhost:8080/"
        },
        "id": "-YsqFVyJoEIN",
        "outputId": "a076bf23-d631-4c72-8504-237bcd40e12e"
      },
      "execution_count": null,
      "outputs": [
        {
          "output_type": "stream",
          "name": "stdout",
          "text": [
            "set()\n",
            "{1, 2, 3}\n",
            "{1, 2}\n"
          ]
        }
      ]
    },
    {
      "cell_type": "code",
      "source": [
        "#메소드: intersection_update\n",
        "data1_set = {1,2,3}; data2_set = {4,5,6}; data3_set = {1,2,3,4,5,6};\n",
        "data1_set.intersection_update(); print(data1_set)\n",
        "data1_set = {1,2,3}; data1_set.intersection_update(data2_set); print(data1_set)\n",
        "data1_set = {1,2,3}; data3_set.intersection_update(data1_set); print(data3_set)\n",
        "data3_set = {1,2,3,4,5,6}; data3_set.intersection_update(data1_set, {1, 3}); print(data3_set)"
      ],
      "metadata": {
        "colab": {
          "base_uri": "https://localhost:8080/"
        },
        "id": "3pKFo1MposRU",
        "outputId": "4ff0f2b2-d734-4e2c-855b-ba1509b6a38a"
      },
      "execution_count": null,
      "outputs": [
        {
          "output_type": "stream",
          "name": "stdout",
          "text": [
            "{1, 2, 3}\n",
            "set()\n",
            "{1, 2, 3}\n",
            "{1, 3}\n"
          ]
        }
      ]
    },
    {
      "cell_type": "code",
      "source": [
        "#메소드: symmetric_difference\n",
        "data1_set = {1,2,3}; data2_set = {4,5,6}; data3_set = {1,2,3,4,5,6};\n",
        "data4_set = data1_set.symmetric_difference(data2_set); print(data4_set)\n",
        "data5_set = data1_set.symmetric_difference(data3_set); print(data5_set)\n",
        "data6_set = data1_set.symmetric_difference({2,3}); print(data6_set)"
      ],
      "metadata": {
        "colab": {
          "base_uri": "https://localhost:8080/"
        },
        "id": "v4EAvqDpwmy7",
        "outputId": "163cf043-99f1-4d21-eb61-93bae9c2bc58"
      },
      "execution_count": null,
      "outputs": [
        {
          "output_type": "stream",
          "name": "stdout",
          "text": [
            "{1, 2, 3, 4, 5, 6}\n",
            "{4, 5, 6}\n",
            "{1}\n"
          ]
        }
      ]
    },
    {
      "cell_type": "code",
      "source": [
        "#메소드: symmetric_difference_update\n",
        "data1_set = {1,2,3}; data2_set = {4,5,6}; data3_set = {1,2,3,4,5,6};\n",
        "data1_set.symmetric_difference_update(data2_set); print(data1_set)\n",
        "data2_set.symmetric_difference_update(data3_set); print(data2_set)\n",
        "data3_set.symmetric_difference_update(data1_set); print(data3_set)"
      ],
      "metadata": {
        "colab": {
          "base_uri": "https://localhost:8080/"
        },
        "id": "Jm5u3Ze8xlsQ",
        "outputId": "d1abe7a7-3ada-49c1-9950-acf680052b6a"
      },
      "execution_count": null,
      "outputs": [
        {
          "output_type": "stream",
          "name": "stdout",
          "text": [
            "{1, 2, 3, 4, 5, 6}\n",
            "{1, 2, 3}\n",
            "set()\n"
          ]
        }
      ]
    },
    {
      "cell_type": "code",
      "source": [
        "#메소드: union\n",
        "data1_set = {1,2,3}; data2_set = {4,5,6}\n",
        "data1_set = data1_set.union(data2_set); print(data1_set)"
      ],
      "metadata": {
        "colab": {
          "base_uri": "https://localhost:8080/"
        },
        "id": "SNF0CZRmyqDX",
        "outputId": "f2359109-d853-48bf-bee5-a9bf074f855f"
      },
      "execution_count": null,
      "outputs": [
        {
          "output_type": "stream",
          "name": "stdout",
          "text": [
            "{1, 2, 3, 4, 5, 6}\n"
          ]
        }
      ]
    },
    {
      "cell_type": "code",
      "source": [
        "#메소드: isdisjoint\n",
        "data1_set = {1,2,3}; data2_set = {4,5,6}; data3_set = {1,2,3,4,5,6};\n",
        "print(data1_set.isdisjoint(data2_set))\n",
        "print(data1_set.isdisjoint(data3_set))"
      ],
      "metadata": {
        "colab": {
          "base_uri": "https://localhost:8080/"
        },
        "id": "qGOR0Z8Bpvvy",
        "outputId": "e10f115c-e1c6-4ee8-81d9-b386a938ad9c"
      },
      "execution_count": null,
      "outputs": [
        {
          "output_type": "stream",
          "name": "stdout",
          "text": [
            "True\n",
            "False\n"
          ]
        }
      ]
    },
    {
      "cell_type": "code",
      "source": [
        "#메소드: issubset\n",
        "data1_set = {1,2,3}; data2_set = {4,5,6}; data3_set = {1,2,3,4,5,6};\n",
        "print(data1_set.issubset(data2_set))\n",
        "print(data1_set.issubset(data3_set))\n",
        "print(data3_set.issubset(data1_set))"
      ],
      "metadata": {
        "colab": {
          "base_uri": "https://localhost:8080/"
        },
        "id": "4qywBqGLtGHe",
        "outputId": "18754a1b-53ab-43bb-bf79-459cd7ac37aa"
      },
      "execution_count": null,
      "outputs": [
        {
          "output_type": "stream",
          "name": "stdout",
          "text": [
            "False\n",
            "True\n",
            "False\n"
          ]
        }
      ]
    },
    {
      "cell_type": "code",
      "source": [
        "#메소드: issuperset\n",
        "data1_set = {1,2,3}; data2_set = {4,5,6}; data3_set = {1,2,3,4,5,6};\n",
        "print(data1_set.issuperset(data2_set))\n",
        "print(data1_set.issuperset(data3_set))\n",
        "print(data3_set.issuperset(data1_set))"
      ],
      "metadata": {
        "colab": {
          "base_uri": "https://localhost:8080/"
        },
        "id": "sGrLcQSttzMw",
        "outputId": "34057efc-d0a1-4297-8033-c6422f6ed710"
      },
      "execution_count": null,
      "outputs": [
        {
          "output_type": "stream",
          "name": "stdout",
          "text": [
            "False\n",
            "False\n",
            "True\n"
          ]
        }
      ]
    }
  ]
}