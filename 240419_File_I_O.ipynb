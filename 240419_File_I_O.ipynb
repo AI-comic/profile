{
  "nbformat": 4,
  "nbformat_minor": 0,
  "metadata": {
    "colab": {
      "provenance": [],
      "authorship_tag": "ABX9TyO1Ntk9l//LmueKZDaWaGw3",
      "include_colab_link": true
    },
    "kernelspec": {
      "name": "python3",
      "display_name": "Python 3"
    },
    "language_info": {
      "name": "python"
    }
  },
  "cells": [
    {
      "cell_type": "markdown",
      "metadata": {
        "id": "view-in-github",
        "colab_type": "text"
      },
      "source": [
        "<a href=\"https://colab.research.google.com/github/AI-comic/profile/blob/main/240419_File_I_O.ipynb\" target=\"_parent\"><img src=\"https://colab.research.google.com/assets/colab-badge.svg\" alt=\"Open In Colab\"/></a>"
      ]
    },
    {
      "cell_type": "code",
      "execution_count": null,
      "metadata": {
        "id": "rNSUFr-BoV9G"
      },
      "outputs": [],
      "source": [
        "f = open('/content/test.txt','a')\n",
        "f = open('test.txt',mode='r',encoding='utf-8')\n",
        "f = open('/content/test.txt',mode='r',encoding='cp1252')\n",
        "\n",
        "f.close()"
      ]
    },
    {
      "cell_type": "code",
      "source": [
        "try:\n",
        "    f = open('test.txt',encoding='utf-8')\n",
        "finally:\n",
        "    f.close()"
      ],
      "metadata": {
        "id": "M45-U-bbM_0D"
      },
      "execution_count": null,
      "outputs": []
    },
    {
      "cell_type": "code",
      "source": [
        "with open('test.txt','w',encoding='utf-8') as f:\n",
        "    f.write('my first file\\n')\n",
        "    f.write('this file\\n\\n')\n",
        "    f.write('contains three lines\\n')"
      ],
      "metadata": {
        "id": "JA8KQyGPNQ3R"
      },
      "execution_count": null,
      "outputs": []
    },
    {
      "cell_type": "code",
      "source": [
        "f = open('test.txt','r',encoding='utf-8')\n",
        "print(f.read(4))\n",
        "print(f.read(5))\n",
        "s1=f.read()\n",
        "print(s1)\n",
        "f.read()"
      ],
      "metadata": {
        "colab": {
          "base_uri": "https://localhost:8080/",
          "height": 164
        },
        "id": "5-khHZpHN-zo",
        "outputId": "5702bbba-6231-4190-9993-1d8ff24fa402"
      },
      "execution_count": null,
      "outputs": [
        {
          "output_type": "stream",
          "name": "stdout",
          "text": [
            "my f\n",
            "irst \n",
            "file\n",
            "this file\n",
            "\n",
            "contains three lines\n",
            "\n"
          ]
        },
        {
          "output_type": "execute_result",
          "data": {
            "text/plain": [
              "''"
            ],
            "application/vnd.google.colaboratory.intrinsic+json": {
              "type": "string"
            }
          },
          "metadata": {},
          "execution_count": 83
        }
      ]
    },
    {
      "cell_type": "code",
      "source": [
        "print(f.tell())\n",
        "f.seek(0)\n",
        "# f.read()"
      ],
      "metadata": {
        "colab": {
          "base_uri": "https://localhost:8080/"
        },
        "id": "ePxiPClqPKVa",
        "outputId": "50a28c69-329a-4ce0-83c8-2b2910759448"
      },
      "execution_count": null,
      "outputs": [
        {
          "output_type": "stream",
          "name": "stdout",
          "text": [
            "46\n"
          ]
        },
        {
          "output_type": "execute_result",
          "data": {
            "text/plain": [
              "0"
            ]
          },
          "metadata": {},
          "execution_count": 84
        }
      ]
    },
    {
      "cell_type": "code",
      "source": [
        "f.seek(0)\n",
        "for line in f:\n",
        "    print(line, end = '')"
      ],
      "metadata": {
        "colab": {
          "base_uri": "https://localhost:8080/"
        },
        "id": "X_TGbcvZvm13",
        "outputId": "08e3732e-6919-4714-ce09-d6f101f1127e"
      },
      "execution_count": null,
      "outputs": [
        {
          "output_type": "stream",
          "name": "stdout",
          "text": [
            "my first file\n",
            "this file\n",
            "\n",
            "contains three lines\n"
          ]
        }
      ]
    },
    {
      "cell_type": "code",
      "source": [
        "f.seek(0)\n",
        "print(f.readline())\n",
        "print(f.readline())\n",
        "print(f.readline())\n",
        "print(f.readline())\n",
        "\n",
        "f.seek(0)\n",
        "f.readlines()"
      ],
      "metadata": {
        "colab": {
          "base_uri": "https://localhost:8080/"
        },
        "id": "mLQ7CVVFwRNt",
        "outputId": "98a43a9d-682b-46f2-d747-b1f85ad3ae1f"
      },
      "execution_count": null,
      "outputs": [
        {
          "output_type": "stream",
          "name": "stdout",
          "text": [
            "my first file\n",
            "\n",
            "this file\n",
            "\n",
            "\n",
            "\n",
            "contains three lines\n",
            "\n"
          ]
        },
        {
          "output_type": "execute_result",
          "data": {
            "text/plain": [
              "['my first file\\n', 'this file\\n', '\\n', 'contains three lines\\n']"
            ]
          },
          "metadata": {},
          "execution_count": 87
        }
      ]
    },
    {
      "cell_type": "code",
      "source": [
        "try:\n",
        "    t = open('test2.txt', encoding='utf-8')\n",
        "finally:\n",
        "    t.close()"
      ],
      "metadata": {
        "id": "XGMejWpFyQVI"
      },
      "execution_count": null,
      "outputs": []
    },
    {
      "cell_type": "code",
      "source": [
        "with open('test2.txt', 'w', encoding='utf-8') as t:\n",
        "    t.write('장원영사기린스드메론')"
      ],
      "metadata": {
        "id": "giIdYZ7S0jyf"
      },
      "execution_count": null,
      "outputs": []
    },
    {
      "cell_type": "code",
      "source": [
        "with open('test2.txt', 'r', encoding='utf-8') as t:\n",
        "    if '영사' in t.read():\n",
        "        with open('test2.txt', 'w', encoding='utf-8') as t:\n",
        "            t.write('장원A기린스드메론')\n",
        "with open('test2.txt', 'r', encoding='utf-8') as t:\n",
        "    if '스드' in t.read():\n",
        "        with open('test2.txt', 'w', encoding='utf-8') as t:\n",
        "            t.write('장원A기린B메론')\n",
        "\n",
        "t = open('test2.txt','r',encoding='utf-8')\n",
        "t.read()"
      ],
      "metadata": {
        "colab": {
          "base_uri": "https://localhost:8080/",
          "height": 35
        },
        "id": "HaU1orka4XIQ",
        "outputId": "d454b066-9d11-4400-da87-11a7bf26cc39"
      },
      "execution_count": null,
      "outputs": [
        {
          "output_type": "execute_result",
          "data": {
            "text/plain": [
              "'장원A기린B메론'"
            ],
            "application/vnd.google.colaboratory.intrinsic+json": {
              "type": "string"
            }
          },
          "metadata": {},
          "execution_count": 98
        }
      ]
    },
    {
      "cell_type": "code",
      "source": [
        "import os\n",
        "print(os.getcwd())\n",
        "print(os.getcwdb())\n",
        "os.getcwd()"
      ],
      "metadata": {
        "colab": {
          "base_uri": "https://localhost:8080/",
          "height": 72
        },
        "id": "EmXjb_yC-6JS",
        "outputId": "d69511d1-7454-449f-e747-efede6620ab0"
      },
      "execution_count": null,
      "outputs": [
        {
          "output_type": "stream",
          "name": "stdout",
          "text": [
            "/content\n",
            "b'/content'\n"
          ]
        },
        {
          "output_type": "execute_result",
          "data": {
            "text/plain": [
              "'/content'"
            ],
            "application/vnd.google.colaboratory.intrinsic+json": {
              "type": "string"
            }
          },
          "metadata": {},
          "execution_count": 109
        }
      ]
    },
    {
      "cell_type": "code",
      "source": [
        "os.chdir('../content')\n",
        "print(os.getcwd())"
      ],
      "metadata": {
        "colab": {
          "base_uri": "https://localhost:8080/"
        },
        "id": "J1886HTr_sx5",
        "outputId": "917aa4cd-918a-4fed-e94f-0cde224a6cb5"
      },
      "execution_count": null,
      "outputs": [
        {
          "output_type": "stream",
          "name": "stdout",
          "text": [
            "/content\n"
          ]
        }
      ]
    },
    {
      "cell_type": "code",
      "source": [
        "with open('A.txt', 'w', encoding='utf-8') as p:\n",
        "    p.write('12345')"
      ],
      "metadata": {
        "id": "Ni1J8fH2ALfI"
      },
      "execution_count": null,
      "outputs": []
    },
    {
      "cell_type": "code",
      "source": [
        "os.mkdir('B')"
      ],
      "metadata": {
        "id": "lxnFoh22_8Mn"
      },
      "execution_count": null,
      "outputs": []
    }
  ]
}