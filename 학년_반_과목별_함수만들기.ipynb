{
  "nbformat": 4,
  "nbformat_minor": 0,
  "metadata": {
    "colab": {
      "provenance": [],
      "include_colab_link": true
    },
    "kernelspec": {
      "name": "python3",
      "display_name": "Python 3"
    },
    "language_info": {
      "name": "python"
    }
  },
  "cells": [
    {
      "cell_type": "markdown",
      "metadata": {
        "id": "view-in-github",
        "colab_type": "text"
      },
      "source": [
        "<a href=\"https://colab.research.google.com/github/AI-comic/profile/blob/main/%ED%95%99%EB%85%84_%EB%B0%98_%EA%B3%BC%EB%AA%A9%EB%B3%84_%ED%95%A8%EC%88%98%EB%A7%8C%EB%93%A4%EA%B8%B0.ipynb\" target=\"_parent\"><img src=\"https://colab.research.google.com/assets/colab-badge.svg\" alt=\"Open In Colab\"/></a>"
      ]
    },
    {
      "cell_type": "code",
      "execution_count": null,
      "metadata": {
        "id": "y0tah0Oh0rSK"
      },
      "outputs": [],
      "source": [
        "import random"
      ]
    },
    {
      "cell_type": "code",
      "source": [
        "학생수 = 20\n",
        "과목수 = 3\n",
        "점수모음 = []\n",
        "for i in range(과목수):\n",
        "    과목점수모음 = []\n",
        "    for j in range(학생수):\n",
        "        점수 = random.randint(0, 100)\n",
        "        과목점수모음.append(점수)\n",
        "    점수모음.append(과목점수모음)\n",
        "\n",
        "print(점수모음[0])\n",
        "print(점수모음[1])\n",
        "print(점수모음[2])"
      ],
      "metadata": {
        "colab": {
          "base_uri": "https://localhost:8080/"
        },
        "id": "F6ubyadF28pA",
        "outputId": "2abbbc04-06ab-4b70-9e7a-b1ba0ff0c170"
      },
      "execution_count": null,
      "outputs": [
        {
          "output_type": "stream",
          "name": "stdout",
          "text": [
            "[88, 28, 81, 73, 34, 76, 93, 93, 59, 87, 32, 72, 72, 17, 71, 32, 42, 9, 86, 17]\n",
            "[82, 48, 52, 3, 70, 68, 57, 65, 62, 5, 72, 62, 16, 5, 66, 41, 30, 45, 42, 89]\n",
            "[72, 17, 94, 6, 27, 74, 56, 82, 22, 55, 85, 87, 93, 43, 76, 14, 11, 58, 99, 47]\n"
          ]
        }
      ]
    },
    {
      "cell_type": "code",
      "source": [
        "_1반 = {\"국어\":점수모음[0], \"영어\":점수모음[1], \"수학\":점수모음[2]}\n",
        "_1반[\"국어\"]"
      ],
      "metadata": {
        "colab": {
          "base_uri": "https://localhost:8080/"
        },
        "id": "M6P0TeSX3SRv",
        "outputId": "74d13314-14cb-4e57-a68d-c52824c7355e"
      },
      "execution_count": null,
      "outputs": [
        {
          "output_type": "execute_result",
          "data": {
            "text/plain": [
              "[88, 28, 81, 73, 34, 76, 93, 93, 59, 87, 32, 72, 72, 17, 71, 32, 42, 9, 86, 17]"
            ]
          },
          "metadata": {},
          "execution_count": 7
        }
      ]
    },
    {
      "cell_type": "code",
      "source": [
        "점수합계 = 0\n",
        "for 점수 in _1반[\"국어\"]:\n",
        "    점수합계 = 점수합계 + 점수\n",
        "\n",
        "점수평균 = 점수합계 / len(_1반[\"국어\"])\n",
        "print(점수평균)\n"
      ],
      "metadata": {
        "colab": {
          "base_uri": "https://localhost:8080/"
        },
        "id": "Z8GZ1gQk5JKi",
        "outputId": "235bcda4-649a-4577-8ada-67ee0cc19fd3"
      },
      "execution_count": null,
      "outputs": [
        {
          "output_type": "stream",
          "name": "stdout",
          "text": [
            "58.1\n"
          ]
        }
      ]
    },
    {
      "cell_type": "code",
      "source": [
        "_1반 = dict()\n",
        "과목들 = [\"국어\", \"영어\", \"수학\"]\n",
        "for i in range(과목수):\n",
        "    과목점수모음 = []\n",
        "    for j in range(학생수):\n",
        "        점수 = random.randint(0, 100)\n",
        "        과목점수모음.append(점수)\n",
        "    _1반[과목들[i]] = 과목점수모음\n",
        "\n",
        "print(_1반[\"국어\"])\n",
        "print(_1반[\"영어\"])\n",
        "print(_1반[\"수학\"])"
      ],
      "metadata": {
        "colab": {
          "base_uri": "https://localhost:8080/"
        },
        "id": "_JYEL6ok5uFC",
        "outputId": "1d35d741-3d7e-4128-c949-0f4a64629343"
      },
      "execution_count": null,
      "outputs": [
        {
          "output_type": "stream",
          "name": "stdout",
          "text": [
            "[72, 36, 4, 97, 50, 57, 81, 21, 60, 25, 19, 92, 22, 22, 98, 77, 40, 90, 47, 6]\n",
            "[59, 34, 41, 23, 71, 95, 8, 65, 73, 1, 57, 51, 33, 81, 6, 55, 68, 73, 54, 10]\n",
            "[3, 67, 28, 29, 78, 65, 10, 19, 42, 11, 28, 55, 14, 41, 29, 35, 76, 34, 27, 98]\n"
          ]
        }
      ]
    },
    {
      "cell_type": "code",
      "source": [
        "_1학년 = {\"1반\":{}}\n",
        "과목들 = [\"국어\", \"영어\", \"수학\"]\n",
        "for i in range(과목수):\n",
        "    과목점수모음 = []\n",
        "    for j in range(학생수):\n",
        "        점수 = random.randint(0, 100)\n",
        "        과목점수모음.append(점수)\n",
        "    _1학년[\"1반\"][과목들[i]] = 과목점수모음\n",
        "\n",
        "print(_1학년[\"1반\"][\"국어\"])\n",
        "print(_1학년[\"1반\"][\"영어\"])\n",
        "print(_1학년[\"1반\"][\"수학\"])"
      ],
      "metadata": {
        "colab": {
          "base_uri": "https://localhost:8080/"
        },
        "id": "cQz79lY06sFm",
        "outputId": "e4fe857b-8d87-4b9d-dc9a-ebf47d1f2fa7"
      },
      "execution_count": null,
      "outputs": [
        {
          "output_type": "stream",
          "name": "stdout",
          "text": [
            "[54, 53, 1, 32, 56, 15, 98, 77, 55, 58, 58, 22, 96, 73, 78, 62, 46, 74, 57, 94]\n",
            "[88, 44, 23, 99, 4, 70, 48, 99, 73, 6, 89, 61, 24, 63, 91, 1, 78, 33, 94, 42]\n",
            "[3, 3, 7, 95, 18, 68, 73, 89, 25, 38, 36, 23, 27, 2, 45, 70, 41, 61, 74, 81]\n"
          ]
        }
      ]
    },
    {
      "cell_type": "code",
      "source": [
        "_1학년 = {}\n",
        "과목들 = [\"국어\", \"영어\", \"수학\"]\n",
        "반들 = ['1반', '2반', '3반', '4반']\n",
        "\n",
        "for k in range(len(반들)):\n",
        "    _1학년[반들[k]] = {}\n",
        "    for i in range(과목수):\n",
        "        과목점수모음 = []\n",
        "        for j in range(학생수):\n",
        "            점수 = random.randint(0, 100)\n",
        "            과목점수모음.append(점수)\n",
        "        _1학년[반들[k]][과목들[i]] = 과목점수모음\n",
        "\n",
        "print(_1학년[\"1반\"][\"국어\"])\n",
        "print(_1학년[\"2반\"][\"영어\"])\n",
        "print(_1학년[\"3반\"][\"수학\"])"
      ],
      "metadata": {
        "colab": {
          "base_uri": "https://localhost:8080/"
        },
        "id": "pE_J94AQ7U-9",
        "outputId": "adfc4e06-e252-4b39-9218-85a6c353360e"
      },
      "execution_count": null,
      "outputs": [
        {
          "output_type": "stream",
          "name": "stdout",
          "text": [
            "[9, 37, 82, 66, 95, 79, 48, 80, 91, 83, 81, 87, 39, 74, 66, 72, 99, 2, 76, 43]\n",
            "[98, 25, 88, 21, 4, 4, 36, 86, 35, 50, 12, 92, 65, 96, 49, 90, 85, 81, 79, 8]\n",
            "[50, 63, 89, 60, 15, 59, 39, 80, 23, 36, 10, 39, 26, 68, 43, 31, 18, 29, 23, 50]\n"
          ]
        }
      ]
    },
    {
      "cell_type": "code",
      "source": [
        "t = {\"a\":[[5,6,7],2,3]}\n",
        "\n",
        "t[\"a\"][0][0] = 7"
      ],
      "metadata": {
        "colab": {
          "base_uri": "https://localhost:8080/"
        },
        "id": "A7OiQ2uw7XGF",
        "outputId": "cd77815c-2970-4782-8a1e-122c81f17b78"
      },
      "execution_count": null,
      "outputs": [
        {
          "output_type": "execute_result",
          "data": {
            "text/plain": [
              "[[5, 6, 7], 2, 3]"
            ]
          },
          "metadata": {},
          "execution_count": 25
        }
      ]
    }
  ]
}