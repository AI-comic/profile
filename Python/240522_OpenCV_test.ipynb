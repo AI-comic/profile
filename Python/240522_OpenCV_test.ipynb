{
  "nbformat": 4,
  "nbformat_minor": 0,
  "metadata": {
    "colab": {
      "provenance": [],
      "include_colab_link": true
    },
    "kernelspec": {
      "name": "python3",
      "display_name": "Python 3"
    },
    "language_info": {
      "name": "python"
    }
  },
  "cells": [
    {
      "cell_type": "markdown",
      "metadata": {
        "id": "view-in-github",
        "colab_type": "text"
      },
      "source": [
        "<a href=\"https://colab.research.google.com/github/AI-comic/profile/blob/main/240522_OpenCV_test.ipynb\" target=\"_parent\"><img src=\"https://colab.research.google.com/assets/colab-badge.svg\" alt=\"Open In Colab\"/></a>"
      ]
    },
    {
      "cell_type": "code",
      "execution_count": null,
      "metadata": {
        "id": "a0hhDZYmzltO"
      },
      "outputs": [],
      "source": [
        "import cv2"
      ]
    },
    {
      "cell_type": "code",
      "source": [
        "from google.colab import drive\n",
        "drive.mount('/content/drive')"
      ],
      "metadata": {
        "colab": {
          "base_uri": "https://localhost:8080/"
        },
        "id": "DWal8HGm1dFO",
        "outputId": "6a37f6bf-2012-4eac-a995-334557163c9c"
      },
      "execution_count": null,
      "outputs": [
        {
          "output_type": "stream",
          "name": "stdout",
          "text": [
            "Mounted at /content/drive\n"
          ]
        }
      ]
    },
    {
      "cell_type": "code",
      "source": [
        "from google.colab.patches import cv2_imshow"
      ],
      "metadata": {
        "id": "O0-TQdJW2Dwt"
      },
      "execution_count": null,
      "outputs": []
    },
    {
      "cell_type": "code",
      "source": [
        "img = cv2.imread('/content/drive/MyDrive/20240425_085917.jpg')\n",
        "cv2_imshow(img)\n",
        "cv2.waitKey()"
      ],
      "metadata": {
        "id": "fjqAyQa92TMI"
      },
      "execution_count": null,
      "outputs": []
    },
    {
      "cell_type": "code",
      "source": [
        "import cv2      # 파이썬 예제1\n",
        "\n",
        "cap = cv2.VideoCapture('video1.avi')\n",
        "\n",
        "while cap.isOpened():\n",
        "    ret, frame = cap.read()\n",
        "    if ret is True:\n",
        "        inversed = ~frame\n",
        "        cv2.imshow('frame', frame)\n",
        "        cv2.imshow('inversed', inversed)\n",
        "        if cv2.waitKey(15) == 27:\n",
        "            break\n",
        "\n",
        "cap.release()\n",
        "cv2.destoryAllWindows()"
      ],
      "metadata": {
        "id": "VGVhxeFe57tr"
      },
      "execution_count": null,
      "outputs": []
    },
    {
      "cell_type": "code",
      "source": [
        "import cv2      # 파이썬 예제2\n",
        "\n",
        "cap = cv2.VideoCapture(0)\n",
        "if not cap.isOpened():\n",
        "    print('Camera open failed')\n",
        "    exit()\n",
        "\n",
        "w = round(cap.get(cv2.CAP_PROP_FRAME_WIDTH))\n",
        "h = round(cap.get(cv2.CAP_PROP_FRAME_HEIGHT))\n",
        "fps = cap.get(cv2.CAP_PROP_FPS)\n",
        "fourcc = cv2.VideoWriter_fourcc(*'DIVX')\n",
        "delay = round(1000/fps)\n",
        "\n",
        "outputVideo = cv2.VideoWriter('output.avi', fourcc, fps, (w, h))\n",
        "if not outputVideo.isOpened():\n",
        "    print('File open failed')\n",
        "    exit()\n",
        "\n",
        "while True:\n",
        "    ret, frame = cap.read()\n",
        "    if ret:\n",
        "        inversed = ~frame\n",
        "        outputVideo.write(inversed)\n",
        "        cv2.imshow('frame', frame)\n",
        "        cv2.imshow('inversed', inversed)\n",
        "        if cv2.waitKey(delay) == 27:\n",
        "            break\n",
        "\n",
        "    else:\n",
        "        print('error 발생')\n",
        "        exit()\n",
        "\n",
        "cap.release()\n",
        "outputVideo.release()\n",
        "cv2.destroyAllWindows()"
      ],
      "metadata": {
        "id": "E47lGfQW7mX1"
      },
      "execution_count": null,
      "outputs": []
    },
    {
      "cell_type": "code",
      "source": [
        "import cv2      # 파이썬 예제3\n",
        "import numpy as np\n",
        "\n",
        "oldx = oldy = -1 # 좌표 기본값 설정\n",
        "\n",
        "def on_mouse(event, x, y, flags, param):\n",
        "    global oldx, oldy\n",
        "    if event == cv2.EVENT_LBUTTONDOWN:  # 마우스 왼쪽 버튼이 눌러지면 실행\n",
        "        oldx, oldy = x, y\n",
        "        print('EVENT_LBUTTONDOWN: %d, %d' % (x, y)) # 좌표 출력\n",
        "    elif event == cv2.EVENT_LBUTTONUP:  # 마우스 왼쪽 버튼을 뗐을 때 실행\n",
        "        print('EVENT_LBUTTONUP: %d, %d' % (x, y))   # 좌표 출력\n",
        "    elif event == cv2.EVENT_MOUSEMOVE:  # 마우스가 움직일 때\n",
        "        if flags & cv2.EVENT_FLAG_LBUTTON:  # ==를 쓰면 다른 키도 입력되었을 때 작동하지 않으므로 & 사용\n",
        "            cv2.line(img, (oldx, oldy), (x, y), (0, 0, 255), 2)\n",
        "            oldx, oldy = x, y\n",
        "        elif flags & cv2.EVENT_FLAG_RBUTTON:    # ==를 쓰면 다른 키도 입력되었을 때 작동하지 않으므로 & 사용\n",
        "            cv2.line(img, (oldx, oldy), (x, y), (0, 0, 0), 10)\n",
        "            oldx, oldy = x, y\n",
        "    elif event == cv2.EVENT_RBUTTONDOWN:    # 마우스 왼쪽 버튼이 눌러지면 실행\n",
        "        oldx, oldy = x, y\n",
        "        print('EVENT_RBUTTONDOWN: %d, %d' % (x, y)) # 좌표 출력\n",
        "    elif event == cv2.EVENT_RBUTTONUP:  # 마우스 왼쪽 버튼을 뗐을 때 실행\n",
        "        print('EVENT_RBUTTONUP: %d, %d' % (x, y))   # 좌표 출력\n",
        "\n",
        "img = np.zeros((512, 512, 3), np.uint8)\n",
        "cv2.namedWindow('image')\n",
        "cv2.setMouseCallback('image', on_mouse)\n",
        "\n",
        "while(1):\n",
        "    cv2.imshow('image', img)\n",
        "    if cv2.waitKey(1) == 27:\n",
        "        break\n",
        "\n",
        "cv2.destoryAllWindows()"
      ],
      "metadata": {
        "id": "nvr_e5Ey71AV"
      },
      "execution_count": null,
      "outputs": []
    }
  ]
}
