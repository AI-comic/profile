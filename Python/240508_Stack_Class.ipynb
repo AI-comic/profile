{
  "nbformat": 4,
  "nbformat_minor": 0,
  "metadata": {
    "colab": {
      "provenance": [],
      "authorship_tag": "ABX9TyMCiGMN5aXJfNn/9Kx6byn4",
      "include_colab_link": true
    },
    "kernelspec": {
      "name": "python3",
      "display_name": "Python 3"
    },
    "language_info": {
      "name": "python"
    }
  },
  "cells": [
    {
      "cell_type": "markdown",
      "metadata": {
        "id": "view-in-github",
        "colab_type": "text"
      },
      "source": [
        "<a href=\"https://colab.research.google.com/github/AI-comic/profile/blob/main/240508_Stack_Class.ipynb\" target=\"_parent\"><img src=\"https://colab.research.google.com/assets/colab-badge.svg\" alt=\"Open In Colab\"/></a>"
      ]
    },
    {
      "cell_type": "code",
      "execution_count": null,
      "metadata": {
        "id": "bZP4z-G5dsph"
      },
      "outputs": [],
      "source": [
        "class Stack():\n",
        "    def __init__(self):\n",
        "        self.items = []\n",
        "    def isEmpty(self):\n",
        "        if len(self.items) == 0:\n",
        "            return True\n",
        "        else:\n",
        "            return False\n",
        "    def push(self, e):\n",
        "        self.items = self.items + [e]\n",
        "    def pop(self):\n",
        "        pass\n",
        "    def peek(self):\n",
        "        self.items = self.items[-1]\n",
        "    def size(self):\n",
        "        return len(self.items)\n",
        "    def clear(self):\n",
        "        self.items = []\n",
        "    def display(self):\n",
        "        print(self.items)\n",
        "    def q(self):\n",
        "        print(\"프로그램을 종료합니다.\")\n",
        "stack = Stack()\n",
        "while True:\n",
        "    command = input(\"명령을 입력하세요. (isEmpty, push, pop, peek, size, clear, display, q): \")\n",
        "    if command == 'isEmpty':\n",
        "        print(stack.isEmpty())\n",
        "    elif command == 'push':\n",
        "        element = input(\"추가할 요소를 입력하세요: \")\n",
        "        stack.push(element)\n",
        "    elif command == 'pop':\n",
        "        print(stack.pop())\n",
        "    elif command == 'peek':\n",
        "        print(stack.peek())\n",
        "    elif command == 'size':\n",
        "        print(stack.size())\n",
        "    elif command == 'clear':\n",
        "        stack.clear()\n",
        "    elif command == 'display':\n",
        "        stack.display()\n",
        "    elif command == 'q':\n",
        "        stack.q()\n",
        "        break\n",
        "    else:\n",
        "        print(\"유효하지 않은 명령입니다. 다시 입력하세요.\")"
      ]
    },
    {
      "cell_type": "code",
      "source": [
        "def check(text):\n",
        "    stack = []  # 스택 초기화\n",
        "\n",
        "    for char in text:  # 문자열을 한 글자씩 반복\n",
        "        if char == '(':  # 여는 괄호인 경우\n",
        "            stack.append('(')  # 스택에 추가\n",
        "        elif char == '[':  # 여는 대괄호인 경우\n",
        "            stack.append('[')  # 스택에 추가\n",
        "        elif char == '{':  # 여는 중괄호인 경우\n",
        "            stack.append('{')  # 스택에 추가\n",
        "        elif char == ')':  # 닫는 괄호인 경우\n",
        "            if not stack or stack.pop() != '(':  # 스택이 비어있거나 대응하는 여는 괄호가 아닌 경우\n",
        "                return False  # 괄호가 올바르게 사용되지 않은 경우 False 반환\n",
        "        elif char == ']':  # 닫는 대괄호인 경우\n",
        "            if not stack or stack.pop() != '[':  # 스택이 비어있거나 대응하는 여는 대괄호가 아닌 경우\n",
        "                return False  # 괄호가 올바르게 사용되지 않은 경우 False 반환\n",
        "        elif char == '}':  # 닫는 중괄호인 경우\n",
        "            if not stack or stack.pop() != '{':  # 스택이 비어있거나 대응하는 여는 중괄호가 아닌 경우\n",
        "                return False  # 괄호가 올바르게 사용되지 않은 경우 False 반환\n",
        "\n",
        "    return len(stack) == 0  # 스택이 비어있으면 모든 괄호가 제대로 닫혔으므로 True, 그렇지 않으면 False 반환\n",
        "\n",
        "text1 = \"{ A[i+1])=0 }\"\n",
        "text2 = \"If ((i==0) && (j==0)\"\n",
        "text3 = \"While (it<10)) {it-=1}\"\n",
        "text4 = \"A[(i+1]) = 0\"\n",
        "print(\"text1 괄호가 올바르게 사용되었는지:\", check(text1))\n",
        "print(\"text2 괄호가 올바르게 사용되었는지:\", check(text2))\n",
        "print(\"text3 괄호가 올바르게 사용되었는지:\", check(text3))\n",
        "print(\"text4 괄호가 올바르게 사용되었는지:\", check(text4))"
      ],
      "metadata": {
        "id": "MgoCE0EGc46z"
      },
      "execution_count": null,
      "outputs": []
    },
    {
      "cell_type": "code",
      "source": [
        "text1 = \"{ A[i+1])=0 }\"\n",
        "b = []\n",
        "\n",
        "for c in text1:\n",
        "    if c in \"([{\":\n",
        "        b.append(c)\n",
        "print(b)"
      ],
      "metadata": {
        "id": "ovb4Qu8_iSE4"
      },
      "execution_count": null,
      "outputs": []
    },
    {
      "cell_type": "code",
      "source": [
        "def check(text):\n",
        "    stack = []  # 스택 초기화\n",
        "    opening = \"([{\"\n",
        "    closing = \")]}\"\n",
        "    bracket_pairs = {')': '(', ']': '[', '}': '{'}  # 괄호의 대응 관계\n",
        "\n",
        "    for char in text:  # 문자열을 한 글자씩 반복\n",
        "        if char in opening:  # 현재 문자가 여는 괄호인 경우\n",
        "            stack.append(char)  # 스택에 추가\n",
        "        elif char in closing:  # 현재 문자가 닫는 괄호인 경우\n",
        "            if not stack:  # 스택이 비어있는 경우\n",
        "                return False  # 닫는 괄호가 나왔는데 이에 대응하는 여는 괄호가 없는 경우이므로 False 반환\n",
        "            else:\n",
        "                top_of_stack = stack.pop()  # 스택에서 가장 최근에 추가된 괄호를 꺼냄\n",
        "                if bracket_pairs[char] != top_of_stack:  # 현재 닫는 괄호에 대응되는 여는 괄호가 꺼낸 괄호와 다른 경우\n",
        "                    return False  # 대응되는 여는 괄호가 아니므로 False 반환\n",
        "    # 문자열을 모두 확인한 후에도 스택이 비어있지 않은 경우\n",
        "    if stack:\n",
        "        return False  # 여는 괄호가 닫히지 않은 경우이므로 False 반환\n",
        "\n",
        "    return True  # 모든 괄호가 제대로 닫혔는지 확인했으므로 True 반환\n",
        "\n",
        "text1 = \"{ A[i+1])=0 }\"\n",
        "text2 = \"If ((i==0) && (j==0)\"\n",
        "text3 = \"While (it<10)) {it-=1}\"\n",
        "text4 = \"A[(i+1]) = 0\"\n",
        "print(\"text1 괄호가 올바르게 사용되었는지:\", check(text1))\n",
        "print(\"text2 괄호가 올바르게 사용되었는지:\", check(text2))\n",
        "print(\"text3 괄호가 올바르게 사용되었는지:\", check(text3))\n",
        "print(\"text4 괄호가 올바르게 사용되었는지:\", check(text4))"
      ],
      "metadata": {
        "id": "dXj2_vEvoLkC"
      },
      "execution_count": null,
      "outputs": []
    },
    {
      "cell_type": "code",
      "source": [
        "def postfix(text):\n",
        "    stack = []\n",
        "    operators = \"+-*/\"\n",
        "\n",
        "    for char in text:\n",
        "        if char not in operators:\n",
        "            stack.append(int(char))\n",
        "        elif char in operators:\n",
        "            num2 = stack.pop()\n",
        "            num1 = stack.pop()\n",
        "            if char == '+':\n",
        "                res = num1+num2\n",
        "            elif char == '-':\n",
        "                res = num1-num2\n",
        "            elif char == '*':\n",
        "                res = num1*num2\n",
        "            elif char == '/':\n",
        "                res = num1/num2\n",
        "            stack.append(res)\n",
        "    return stack.pop()\n",
        "\n",
        "text = \"82/3-32*+\"\n",
        "print(postfix(text))"
      ],
      "metadata": {
        "colab": {
          "base_uri": "https://localhost:8080/"
        },
        "id": "-Zx7krpK1MZD",
        "outputId": "c59ed94e-aa67-4f5e-956e-fb7f57535e33"
      },
      "execution_count": 36,
      "outputs": [
        {
          "output_type": "stream",
          "name": "stdout",
          "text": [
            "7.0\n"
          ]
        }
      ]
    }
  ]
}
