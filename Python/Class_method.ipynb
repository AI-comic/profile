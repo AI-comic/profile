{
  "nbformat": 4,
  "nbformat_minor": 0,
  "metadata": {
    "colab": {
      "provenance": [],
      "authorship_tag": "ABX9TyN8fAZ9pdAbQij+PhnVGNi5",
      "include_colab_link": true
    },
    "kernelspec": {
      "name": "python3",
      "display_name": "Python 3"
    },
    "language_info": {
      "name": "python"
    }
  },
  "cells": [
    {
      "cell_type": "markdown",
      "metadata": {
        "id": "view-in-github",
        "colab_type": "text"
      },
      "source": [
        "<a href=\"https://colab.research.google.com/github/AI-comic/profile/blob/main/Class_method.ipynb\" target=\"_parent\"><img src=\"https://colab.research.google.com/assets/colab-badge.svg\" alt=\"Open In Colab\"/></a>"
      ]
    },
    {
      "cell_type": "markdown",
      "source": [
        "| Operator           | Expression    | Internally         |\n",
        "|--------------------|---------------|--------------------|\n",
        "| Addition           | `p1 + p2`     | `p1.__add__(p2)`  |\n",
        "| Subtraction        | `p1 - p2`     | `p1.__sub__(p2)`  |\n",
        "| Multiplication     | `p1 * p2`     | `p1.__mul__(p2)`  |\n",
        "| Power              | `p1 ** p2`    | `p1.__pow__(p2)`  |\n",
        "| Division           | `p1 / p2`     | `p1.__truediv__(p2)` |\n",
        "| Floor Division     | `p1 // p2`    | `p1.__floordiv__(p2)` |\n",
        "| Remainder (modulo) | `p1 % p2`     | `p1.__mod__(p2)`  |\n",
        "| Bitwise Left Shift | `p1 << p2`    | `p1.__lshift__(p2)` |\n",
        "| Bitwise Right Shift| `p1 >> p2`    | `p1.__rshift__(p2)` |\n",
        "| Bitwise AND        | `p1 & p2`     | `p1.__and__(p2)`  |\n",
        "| Bitwise OR         | `p1 \\| p2`    | `p1.__or__(p2)`   |\n",
        "| Bitwise XOR        | `p1 ^ p2`     | `p1.__xor__(p2)`  |\n",
        "| Bitwise NOT        | `~p1`         | `p1.__invert__()` |\n",
        "| Less than          | `p1 < p2`     | `p1.__lt__(p2)`   |\n",
        "| Less than or equal | `p1 <= p2`    | `p1.__le__(p2)`   |\n",
        "| Equal to           | `p1 == p2`    | `p1.__eq__(p2)`   |\n",
        "| Not equal to       | `p1 != p2`    | `p1.__ne__(p2)`   |\n",
        "| Greater than       | `p1 > p2`     | `p1.__gt__(p2)`   |\n",
        "| Greater than or equal | `p1 >= p2`  | `p1.__ge__(p2)`   |\n"
      ],
      "metadata": {
        "id": "Iud37lP0J-n9"
      }
    }
  ]
}
