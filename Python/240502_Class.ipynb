{
  "nbformat": 4,
  "nbformat_minor": 0,
  "metadata": {
    "colab": {
      "provenance": [],
      "authorship_tag": "ABX9TyMOOAxv8aIk2BqMRt6GfAic",
      "include_colab_link": true
    },
    "kernelspec": {
      "name": "python3",
      "display_name": "Python 3"
    },
    "language_info": {
      "name": "python"
    }
  },
  "cells": [
    {
      "cell_type": "markdown",
      "metadata": {
        "id": "view-in-github",
        "colab_type": "text"
      },
      "source": [
        "<a href=\"https://colab.research.google.com/github/AI-comic/profile/blob/main/240502_Class.ipynb\" target=\"_parent\"><img src=\"https://colab.research.google.com/assets/colab-badge.svg\" alt=\"Open In Colab\"/></a>"
      ]
    },
    {
      "cell_type": "code",
      "execution_count": null,
      "metadata": {
        "id": "ua-iSlOT4RZm"
      },
      "outputs": [],
      "source": [
        "class ComplexNumber:\n",
        "    def __init__(self, r=0, i=0):\n",
        "        self.real = r\n",
        "        self.imag = i\n",
        "    def get_data(self):\n",
        "        print(f'{self.real}+{self.imag}j')\n",
        "num1 = ComplexNumber(2,3)\n",
        "num1.get_data()\n",
        "num2 = ComplexNumber(5)\n",
        "num2.attr = 10\n",
        "print((num2.real,num2.imag,num2.attr))\n",
        "print(num1.attr)"
      ]
    },
    {
      "cell_type": "code",
      "source": [
        "class Polygon:\n",
        "    def __init__(self, no_of_sides):\n",
        "        self.n = no_of_sides\n",
        "        self.sides = [0 for i in range(no_of_sides)]\n",
        "    def inputSides(self):\n",
        "        self.sides = [float(input(\"Enter side \"+str(i+1)+\" : \")) for i in range(self.n)]\n",
        "    def dispSides(self):\n",
        "        for i in range(self.n):\n",
        "            print(\"Side\",i+1,\"is\",self.sides[i])\n",
        ""
      ],
      "metadata": {
        "id": "JRHPKeLl5MpQ"
      },
      "execution_count": 13,
      "outputs": []
    },
    {
      "cell_type": "code",
      "source": [
        "class Triangle(Polygon):\n",
        "    def __init__(self):\n",
        "        Polygon.__init__(self,3)\n",
        "\n",
        "    def findArea(self):\n",
        "        a,b,c = self.sides\n",
        "        s = (a + b + c)/2\n",
        "        area = (s*(s-a)*(s-b)*(s-c)) ** 0.5\n",
        "        print('The area of the triangle is %0.2f' %area)"
      ],
      "metadata": {
        "id": "LsDN5S0ZAI5H"
      },
      "execution_count": 16,
      "outputs": []
    },
    {
      "cell_type": "code",
      "source": [
        "t = Triangle()\n",
        "t.inputSides()\n",
        "t.dispSides()\n",
        "t.findArea()"
      ],
      "metadata": {
        "colab": {
          "base_uri": "https://localhost:8080/"
        },
        "id": "TyBha3fKAjUd",
        "outputId": "d01b8070-784b-4553-9c17-c9fb29d0b6d5"
      },
      "execution_count": 17,
      "outputs": [
        {
          "output_type": "stream",
          "name": "stdout",
          "text": [
            "Enter side 1 : 3\n",
            "Enter side 2 : 4\n",
            "Enter side 3 : 5\n",
            "Side 1 is 3.0\n",
            "Side 2 is 4.0\n",
            "Side 3 is 5.0\n",
            "The area of the triangle is 6.00\n"
          ]
        }
      ]
    },
    {
      "cell_type": "code",
      "source": [
        "class Rectangle(Polygon):\n",
        "    def __init__(self): # 부모 클래스의 초기화 메서드 호출\n",
        "        Polygon.__init__(self,4)\n",
        "\n",
        "    def findArea(self):\n",
        "        if len(set(self.sides)) == 1:   # 모든 변의 길이가 같으면 정사각형\n",
        "            area = self.sides[0] ** 2\n",
        "            print('The area of the square is %0.2f' % area)\n",
        "            return True\n",
        "        elif len(set(self.sides)) == 2: # 서로 다른 두 변의 길이가 같으면 직사각형\n",
        "            area = self.sides[0] * self.sides[1]\n",
        "            print('The area of the rectangle is %0.2f' % area)\n",
        "            return True\n",
        "        else:\n",
        "            print(\"It's neither a square nor a rectangle.\")\n",
        "            return False\n",
        "\n",
        "while True:\n",
        "    r = Rectangle()  # Rectangle 객체 생성\n",
        "    r.inputSides()   # 변의 길이 입력\n",
        "    if r.findArea(): # 넓이 계산\n",
        "        break        # 올바른 종류의 사각형이 입력되면 루프 종료"
      ],
      "metadata": {
        "colab": {
          "base_uri": "https://localhost:8080/"
        },
        "id": "FSy3QMAXBEXo",
        "outputId": "624eaaa6-c941-4043-ac51-1a383698a1ee"
      },
      "execution_count": 29,
      "outputs": [
        {
          "output_type": "stream",
          "name": "stdout",
          "text": [
            "Enter side 1 : 3\n",
            "Enter side 2 : 6\n",
            "Enter side 3 : 6\n",
            "Enter side 4 : 6\n",
            "The area of the rectangle is 18.00\n"
          ]
        }
      ]
    },
    {
      "cell_type": "code",
      "source": [
        "import time\n",
        "\n",
        "myBag = []\n",
        "start = time.time()\n",
        "print(\"실행시간=\",start)"
      ],
      "metadata": {
        "colab": {
          "base_uri": "https://localhost:8080/"
        },
        "id": "k4tklMuOEkTG",
        "outputId": "6b6115cd-e941-47ee-a15e-6c2cbbc0671e"
      },
      "execution_count": 2,
      "outputs": [
        {
          "output_type": "stream",
          "name": "stdout",
          "text": [
            "실행시간= 1714624723.1825182\n"
          ]
        }
      ]
    },
    {
      "cell_type": "code",
      "source": [
        "class List():\n",
        "    def __init__(self):\n",
        "        self.items = []\n",
        "    def insert(self, pos, e):\n",
        "        self.items = self.items[:pos] + [e] + self.items[pos:]\n",
        "    def delete(self, pos):\n",
        "        self.items = self.items[:pos] + self.items[pos + 1:]\n"
      ],
      "metadata": {
        "id": "sd68jx6S1l-X"
      },
      "execution_count": 3,
      "outputs": []
    },
    {
      "cell_type": "code",
      "source": [
        "class Line():\n",
        "    def __init__(self):\n",
        "        self.items = []\n",
        "    def i(self, line_no, text):\n",
        "        self.items.insert(line_no, text)\n",
        "    def p(self):\n",
        "        for line in self.items:\n",
        "            print(line)\n",
        "    def q(self):\n",
        "\n",
        "while True:\n",
        "    command = input(\"명령을 입력하세요 (i: 삽입, d: 삭제, r: 변경, p: 출력, l: 파일 읽기, s: 저장, q: 종료): \")\n",
        "    if command == 'i':\n",
        "        line_no = int(input(\"삽입할 행 번호: \"))\n",
        "        text = input(\"삽입할 문자열: \")\n",
        "        Line.i(line_no, text)\n",
        "    elif command == 'p':\n",
        "        Line.print_lines()\n",
        "    elif command == 'q':\n",
        "        print(\"프로그램을 종료합니다.\")\n",
        "        break\n",
        "    else:\n",
        "        print(\"유효하지 않은 명령입니다. 다시 입력하세요.\")"
      ],
      "metadata": {
        "id": "779WPV4lHfhG"
      },
      "execution_count": null,
      "outputs": []
    },
    {
      "cell_type": "code",
      "source": [
        "class Set():\n",
        "    def __init__(self):\n",
        "        self.items = []\n",
        "    def size(self):\n",
        "        return len(self.items)\n",
        "    def contains(self, e):\n",
        "        if e in self.items:         #in이 기억나지 않으면 for i in items를 이용하면 된다.\n",
        "            return True\n",
        "        else:\n",
        "            return False\n",
        "    def insert(self, e):\n",
        "        if e in self.items:         #in이 기억나지 않으면 for i in items를 이용하면 된다.\n",
        "            self.items = self.items\n",
        "        if e not in self.items:\n",
        "            self.items = self.items + [e]\n",
        "    def delete(self, e):            #list의 pop 기능 활용\n",
        "        self.items = self.items - [e]\n",
        "    def equals(self, setB):         #우선 길이가 같은지 확인\n",
        "        if self.items == setB.items:\n",
        "            return True\n",
        "        else:\n",
        "            return False\n",
        "    def union(self, setB):      #A에 있는 원소 넣고, B에 있는 원소 중 A에 없는 애들만 넣기\n",
        "        pass\n",
        "    def intersect(self, setB):  #A에 있는 원소가 B에 있으면 집합에 넣고 아니면 안 넣기\n",
        "        pass\n",
        "    def difference(self, setB): #A에 있는 원소가 B에 없으면 집합에 넣고 아니면 안 넣기\n",
        "        pass\n",
        "    def display(self):\n",
        "        print(self.items)"
      ],
      "metadata": {
        "id": "zf0TBmpjH-6l"
      },
      "execution_count": null,
      "outputs": []
    },
    {
      "cell_type": "code",
      "source": [],
      "metadata": {
        "id": "Rqsy84sSN1oF"
      },
      "execution_count": null,
      "outputs": []
    }
  ]
}
