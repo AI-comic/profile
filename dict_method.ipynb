{
  "nbformat": 4,
  "nbformat_minor": 0,
  "metadata": {
    "colab": {
      "provenance": [],
      "authorship_tag": "ABX9TyNVpGbslcmeEfL2S1kgVAi0",
      "include_colab_link": true
    },
    "kernelspec": {
      "name": "python3",
      "display_name": "Python 3"
    },
    "language_info": {
      "name": "python"
    }
  },
  "cells": [
    {
      "cell_type": "markdown",
      "metadata": {
        "id": "view-in-github",
        "colab_type": "text"
      },
      "source": [
        "<a href=\"https://colab.research.google.com/github/AI-comic/profile/blob/main/dict_method.ipynb\" target=\"_parent\"><img src=\"https://colab.research.google.com/assets/colab-badge.svg\" alt=\"Open In Colab\"/></a>"
      ]
    },
    {
      "cell_type": "markdown",
      "source": [
        "Dictionary 메소드(method)\n",
        "\n",
        "| |메소드|기능|\n",
        "|:--|:---:|:--:|\n",
        "|1|clear()|딕셔너리의 모든 항목 제거|\n",
        "|2|copy()|딕셔너리의 얕은 복사본 반환|\n",
        "|3|fromkeys(key,value)|키의 값이 value(기본값은 None)인 새로운 딕셔너리를 반환|\n",
        "|4|get(key,d)|키의 값을 반환. 키가 존재하지 않으면 d(기본값은 None)를 반환|\n",
        "|5|items()|딕셔너리의 항목들을 (키, 값) 형식으로 반환|\n",
        "|6|keys()|딕셔너리의 모든 키 반환|\n",
        "|7|pop(key,d)|지정된 키의 값을 가져오고 해당 항목 제거(키가 없으면 디폴트 값 반환)|\n",
        "|8|popitem()|임의의 항목(키, 값)을 제거하고 반환. 딕셔너리가 비어있는 경우 KeyError가 발생.|\n",
        "|9|setdefault(key,d)|키가 있으면 해당 값을 반환. 그렇지 않으면 키를 d로 삽입하고 d를 반환(기본값은 None)|\n",
        "|10|update[other]|다른 딕셔너리 (키, 값) 쌍으로 현재 딕셔너리 업데이트. 기존 키를 덮어쓰기|\n",
        "|11|values()|딕셔너리의 모든 값 반환|"
      ],
      "metadata": {
        "id": "D2Cv86dxh3n4"
      }
    },
    {
      "cell_type": "code",
      "source": [
        "#메소드: clear\n",
        "data_dict = {'a': 1, 'b': 2, 'c': 3}\n",
        "data_dict.clear(); print(data_dict)"
      ],
      "metadata": {
        "id": "pJsI9RFCiV4t",
        "colab": {
          "base_uri": "https://localhost:8080/"
        },
        "outputId": "fddaefe7-2432-4440-b993-4595259f63f1"
      },
      "execution_count": null,
      "outputs": [
        {
          "output_type": "stream",
          "name": "stdout",
          "text": [
            "{}\n"
          ]
        }
      ]
    },
    {
      "cell_type": "code",
      "source": [
        "#메소드: copy\n",
        "data_dict = {'a': 1, 'b': 2, 'c': 3}\n",
        "new_dict = data_dict.copy(); print(new_dict)"
      ],
      "metadata": {
        "colab": {
          "base_uri": "https://localhost:8080/"
        },
        "id": "_maiJOSzUAbL",
        "outputId": "c234ab89-a2a7-448a-897c-8bc2afca66d0"
      },
      "execution_count": null,
      "outputs": [
        {
          "output_type": "stream",
          "name": "stdout",
          "text": [
            "{'a': 1, 'b': 2, 'c': 3}\n"
          ]
        }
      ]
    },
    {
      "cell_type": "code",
      "source": [
        "#메소드: fromkeys(key,value])\n",
        "key = ['a', 'b', 'c']\n",
        "value = 0\n",
        "new_dict = dict.fromkeys(key, value); print(new_dict)\n",
        "vowels = 'aeiou'\n",
        "new_dict = dict.fromkeys(vowels, 1); print(new_dict)"
      ],
      "metadata": {
        "colab": {
          "base_uri": "https://localhost:8080/"
        },
        "id": "Q5maHtn-UAdx",
        "outputId": "6e87413d-a9a1-4bc1-ceae-4529d760728f"
      },
      "execution_count": 1,
      "outputs": [
        {
          "output_type": "stream",
          "name": "stdout",
          "text": [
            "{'a': 0, 'b': 0, 'c': 0}\n",
            "{'a': 1, 'e': 1, 'i': 1, 'o': 1, 'u': 1}\n"
          ]
        }
      ]
    },
    {
      "cell_type": "code",
      "source": [
        "#메소드: get(key,d)\n",
        "data_dict = {'a': 1, 'b': 2, 'c': 3}\n",
        "value = data_dict.get('b', 0); print(value)"
      ],
      "metadata": {
        "colab": {
          "base_uri": "https://localhost:8080/"
        },
        "id": "k43nId2aUAgT",
        "outputId": "0287850c-5464-4365-b16b-a3f2235d700f"
      },
      "execution_count": null,
      "outputs": [
        {
          "output_type": "stream",
          "name": "stdout",
          "text": [
            "2\n"
          ]
        }
      ]
    },
    {
      "cell_type": "code",
      "source": [
        "#메소드: items\n",
        "data_dict = {'a': 1, 'b': 2, 'c': 3}\n",
        "items = data_dict.items(); print(items)"
      ],
      "metadata": {
        "colab": {
          "base_uri": "https://localhost:8080/"
        },
        "id": "0sRW6RFyUAi6",
        "outputId": "75e19986-dda8-467a-8eeb-a5cd6236c258"
      },
      "execution_count": null,
      "outputs": [
        {
          "output_type": "stream",
          "name": "stdout",
          "text": [
            "dict_items([('a', 1), ('b', 2), ('c', 3)])\n"
          ]
        }
      ]
    },
    {
      "cell_type": "code",
      "source": [
        "#메소드: keys\n",
        "data_dict = {'a': 1, 'b': 2, 'c': 3}\n",
        "keys = data_dict.keys(); print(keys)"
      ],
      "metadata": {
        "colab": {
          "base_uri": "https://localhost:8080/"
        },
        "id": "_7lGHO73UAlp",
        "outputId": "60e850a1-d579-487d-c2a2-a083c1001a35"
      },
      "execution_count": 2,
      "outputs": [
        {
          "output_type": "stream",
          "name": "stdout",
          "text": [
            "dict_keys(['a', 'b', 'c'])\n"
          ]
        }
      ]
    },
    {
      "cell_type": "code",
      "source": [
        "#메소드: pop(key,d)\n",
        "data_dict = {'a': 1, 'b': 2, 'c': 3}\n",
        "value = data_dict.pop('b', 0)\n",
        "print(value)\n",
        "print(data_dict)"
      ],
      "metadata": {
        "colab": {
          "base_uri": "https://localhost:8080/"
        },
        "id": "tJjvbSlzUAoC",
        "outputId": "5d81f5e7-be48-42f4-9ad8-cc22cce82cb4"
      },
      "execution_count": null,
      "outputs": [
        {
          "output_type": "stream",
          "name": "stdout",
          "text": [
            "2\n",
            "{'a': 1, 'c': 3}\n"
          ]
        }
      ]
    },
    {
      "cell_type": "code",
      "source": [
        "#메소드: popitem\n",
        "data_dict = {'a': 1, 'b': 2, 'c': 3}\n",
        "item = data_dict.popitem()\n",
        "print(item)\n",
        "print(data_dict)"
      ],
      "metadata": {
        "colab": {
          "base_uri": "https://localhost:8080/"
        },
        "id": "vJqQLrREUAqq",
        "outputId": "2e3bc393-ab6a-4df7-90a2-ee3f286b3adc"
      },
      "execution_count": null,
      "outputs": [
        {
          "output_type": "stream",
          "name": "stdout",
          "text": [
            "('c', 3)\n",
            "{'a': 1, 'b': 2}\n"
          ]
        }
      ]
    },
    {
      "cell_type": "code",
      "source": [
        "#메소드: setdefault(key,d)\n",
        "data_dict = {'a': 1, 'b': 2, 'c': 3}\n",
        "value = data_dict.setdefault('d', 4)\n",
        "print(value)\n",
        "print(data_dict)"
      ],
      "metadata": {
        "colab": {
          "base_uri": "https://localhost:8080/"
        },
        "id": "-md6_-wwUAs2",
        "outputId": "55f85b22-eb48-4e82-e868-8ce1e285c2e1"
      },
      "execution_count": null,
      "outputs": [
        {
          "output_type": "stream",
          "name": "stdout",
          "text": [
            "4\n",
            "{'a': 1, 'b': 2, 'c': 3, 'd': 4}\n"
          ]
        }
      ]
    },
    {
      "cell_type": "code",
      "source": [
        "#메소드: update[other]\n",
        "data_dict = {'a': 1, 'b': 2}\n",
        "other_dict = {'b': 3, 'c': 4}\n",
        "data_dict.update(other_dict); print(data_dict)\n",
        "data_dict.update(b = 5, c = 6); print(data_dict)"
      ],
      "metadata": {
        "colab": {
          "base_uri": "https://localhost:8080/"
        },
        "id": "hANKRNjXUAu6",
        "outputId": "0bec7ab7-3622-4cf8-ad4c-2be5daf7d2a5"
      },
      "execution_count": 4,
      "outputs": [
        {
          "output_type": "stream",
          "name": "stdout",
          "text": [
            "{'a': 1, 'b': 3, 'c': 4}\n",
            "{'a': 1, 'b': 5, 'c': 6}\n"
          ]
        }
      ]
    },
    {
      "cell_type": "code",
      "source": [
        "#메소드: values\n",
        "data_dict = {'a': 1, 'b': 2, 'c': 3}\n",
        "values = data_dict.values(); print(values)"
      ],
      "metadata": {
        "colab": {
          "base_uri": "https://localhost:8080/"
        },
        "id": "x5jPKpvxUAww",
        "outputId": "332a5dcd-f0d1-4132-b5cd-2aedfd2a75d8"
      },
      "execution_count": null,
      "outputs": [
        {
          "output_type": "stream",
          "name": "stdout",
          "text": [
            "dict_values([1, 2, 3])\n"
          ]
        }
      ]
    }
  ]
}