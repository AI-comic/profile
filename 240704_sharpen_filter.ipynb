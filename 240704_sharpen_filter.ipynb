{
  "nbformat": 4,
  "nbformat_minor": 0,
  "metadata": {
    "colab": {
      "provenance": [],
      "authorship_tag": "ABX9TyN0eboxSiEg+lcYuiCsIji7",
      "include_colab_link": true
    },
    "kernelspec": {
      "name": "python3",
      "display_name": "Python 3"
    },
    "language_info": {
      "name": "python"
    }
  },
  "cells": [
    {
      "cell_type": "markdown",
      "metadata": {
        "id": "view-in-github",
        "colab_type": "text"
      },
      "source": [
        "<a href=\"https://colab.research.google.com/github/AI-comic/profile/blob/main/240704_sharpen_filter.ipynb\" target=\"_parent\"><img src=\"https://colab.research.google.com/assets/colab-badge.svg\" alt=\"Open In Colab\"/></a>"
      ]
    },
    {
      "cell_type": "code",
      "execution_count": null,
      "metadata": {
        "id": "gwVP4Cqp5-fz"
      },
      "outputs": [],
      "source": [
        "import cv2\n",
        "import numpy as np\n",
        "from scipy.signal import convolve2d\n",
        "\n",
        "sharpen_filter = np.array([[0, -1, 0],\n",
        "                           [-1, 5,-1],\n",
        "                           [0, -1, 0]])\n",
        "\n",
        "image = cv2.imread('/content/sample.jpg', cv2.IMREAD_GRAYSCALE)\n",
        "\n",
        "sharpened_image = convolve2d(image, sharpen_filter, mode='same', boundary='symm')\n",
        "\n",
        "cv2.imshow('Original Image', image)\n",
        "cv2.imshow('Sharpened Image', sharpened_image)\n",
        "\n",
        "cv2.waitKey(0)\n",
        "cv2.destroyAllWindows()"
      ]
    }
  ]
}