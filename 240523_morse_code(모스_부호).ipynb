{
  "nbformat": 4,
  "nbformat_minor": 0,
  "metadata": {
    "colab": {
      "provenance": [],
      "authorship_tag": "ABX9TyPFJc6pSWceduLlDEasNpt6",
      "include_colab_link": true
    },
    "kernelspec": {
      "name": "python3",
      "display_name": "Python 3"
    },
    "language_info": {
      "name": "python"
    }
  },
  "cells": [
    {
      "cell_type": "markdown",
      "metadata": {
        "id": "view-in-github",
        "colab_type": "text"
      },
      "source": [
        "<a href=\"https://colab.research.google.com/github/AI-comic/profile/blob/main/240523_morse_code(%EB%AA%A8%EC%8A%A4_%EB%B6%80%ED%98%B8).ipynb\" target=\"_parent\"><img src=\"https://colab.research.google.com/assets/colab-badge.svg\" alt=\"Open In Colab\"/></a>"
      ]
    },
    {
      "cell_type": "code",
      "execution_count": null,
      "metadata": {
        "id": "GSL3Oo8-sS4y"
      },
      "outputs": [],
      "source": [
        "class TNode:\n",
        "    def __init__(self, data=None, left=None, right=None):\n",
        "        self.data = data\n",
        "        self.left = left\n",
        "        self.right = right\n",
        "\n",
        "def morse_code(root, code, char):\n",
        "    current = root\n",
        "    for symbol in code:\n",
        "        if symbol == '.':\n",
        "            if current.left is None:\n",
        "                current.left = TNode()\n",
        "            current = current.left\n",
        "        elif symbol == '-':\n",
        "            if current.right is None:\n",
        "                current.right = TNode()\n",
        "            current = current.right\n",
        "    current.data = char\n",
        "\n",
        "morse_code_dict = {\n",
        "    'A': '.-', 'B': '-...', 'C': '-.-.', 'D': '-..', 'E': '.', 'F': '..-.',\n",
        "    'G': '--.', 'H': '....', 'I': '..', 'J': '.---', 'K': '-.-', 'L': '.-..',\n",
        "    'M': '--', 'N': '-.', 'O': '---', 'P': '.--.', 'Q': '--.-', 'R': '.-.',\n",
        "    'S': '...', 'T': '-', 'U': '..-', 'V': '...-', 'W': '.--', 'X': '-..-',\n",
        "    'Y': '-.--', 'Z': '--..'\n",
        "}\n",
        "\n",
        "root = TNode(None, None, None)\n",
        "\n",
        "for char, code in morse_code_dict.items():\n",
        "    morse_code(root, code, char)\n",
        "\n",
        "def decode_morse_code(root, morse_message):\n",
        "    decoded_message = []\n",
        "    current = root\n",
        "    for symbol in morse_message:\n",
        "        if symbol == '.':\n",
        "            current = current.left\n",
        "        elif symbol == '-':\n",
        "            current = current.right\n",
        "        elif symbol == ' ':\n",
        "            if current and current.data:\n",
        "                decoded_message.append(current.data)\n",
        "            current = root\n",
        "    if current and current.data:\n",
        "        decoded_message.append(current.data)\n",
        "    return ''.join(decoded_message)\n",
        "\n",
        "# 테스트\n",
        "morse_message = \"... --- ..-\"\n",
        "decoded_message = decode_morse_code(root, morse_message)\n",
        "print(\"Decoded Message:\", decoded_message)\n"
      ]
    }
  ]
}